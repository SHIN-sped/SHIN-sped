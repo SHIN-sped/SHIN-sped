{
  "nbformat": 4,
  "nbformat_minor": 0,
  "metadata": {
    "colab": {
      "provenance": [],
      "include_colab_link": true
    },
    "kernelspec": {
      "name": "python3",
      "display_name": "Python 3"
    }
  },
  "cells": [
    {
      "cell_type": "markdown",
      "metadata": {
        "id": "view-in-github",
        "colab_type": "text"
      },
      "source": [
        "<a href=\"https://colab.research.google.com/github/SHIN-sped/SHIN-sped/blob/master/%5BLesson04%5D_CosPro_1_SOL.ipynb\" target=\"_parent\"><img src=\"https://colab.research.google.com/assets/colab-badge.svg\" alt=\"Open In Colab\"/></a>"
      ]
    },
    {
      "cell_type": "markdown",
      "metadata": {
        "id": "Iz_AxVsNFqXt"
      },
      "source": [
        "## 사용 방법 안내\n",
        "1. 로컬PC/Chrome에서 Google 로그인을 합니다.\n",
        "2. 3회 or 4회 샘플 문제지 아래 URL을 클릭합니다.\n",
        "3. 상단에 '드라이브로 복사'\n",
        "\n",
        "   ![image.png](data:image/png;base64,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)\n",
        "4. 각 문제 확인 후 셀 수정 및 작성\n",
        "5. 저장하기 (Ctrl + S)"
      ]
    },
    {
      "cell_type": "markdown",
      "metadata": {
        "id": "0RECUhUSEHIt"
      },
      "source": [
        "## Cos Pro 1급 4회 문제 1 - 한줄 고치기\n",
        "\n",
        "어떤 단어가 XX 사전의 몇 번째 단어인지 알고 싶습니다. XX 사전에는 대문자 알파벳 'A', 'E', 'I', 'O', 'U'를 사용해 만들 수 있는 길이가 5 이하인 모든 단어가 수록되어 있습니다.\n",
        "\n",
        "예를 들어, 사전의 첫 번째 단어는 \"A\"이고, 그다음은 \"AA\"입니다. 마지막 단어는 \"UUUUU\"입니다.\n",
        "\n",
        "문자열 word가 매개변수로 주어질 때, word가 사전의 몇 번째 단어인지 return 하도록 solution 함수를 작성했습니다. 그러나, 일부 코드가 잘못되어 코드가 바르게 동작하지 않습니다. 주어진 코드가 모든 입력을 바르게 처리하도록 코드를 수정해주세요. 코드는 _**한 줄**_만 수정해야 합니다.\n",
        "\n",
        "\n",
        "**▣ 매개변수 설명**\n",
        "\n",
        "문자열 word가 solution 함수의 매개변수로 주어집니다.\n",
        "* word는 'A', 'E', 'I', 'O', 'U'로만 구성됩니다.\n",
        "* word의 길이는 5 이하입니다.\n",
        "\n",
        "\n",
        "**▣ return 값 설명**\n",
        "\n",
        "사전에서 word가 몇 번째 단어인지 return 해주세요.\n",
        "\n",
        "**▣ 예시**\n",
        "\n",
        "    | word    | return |\n",
        "    |---------|--------|\n",
        "    | \"AAAAE\" | 6      |\n",
        "    | \"AAAE\"  | 10     |\n",
        "\n",
        "**▣ 예시 설명**\n",
        "\n",
        "사전엔 단어가 다음과 같이 수록됩니다. \"A\", \"AA\", \"AAA\", \"AAAA\", \"AAAAA\", \"AAAAE\", \"AAAAI\", \"AAAAO\", \"AAAAU\", \"AAAE\", ...\n",
        "\n",
        "예시 #1\n",
        "\"AAAAE\"는 여섯 번째에 나옵니다.\n",
        "\n",
        "예시 #2\n",
        "“AAAE”는 열 번째에 나옵니다.\n"
      ]
    },
    {
      "cell_type": "code",
      "metadata": {
        "id": "0wvhdOV2pmgy"
      },
      "source": [
        "A\n",
        "AA\n",
        "AAA\n",
        "AAAA\n",
        "AAAAA\n",
        "AAAAE\n",
        "AAAAI\n",
        "AAAAO\n",
        "AAAAU\n",
        "AAAE\n",
        "AAAEA\n",
        "AAAEE\n",
        "AAAEI\n",
        "AAAEO\n",
        "AAAEU\n",
        "AAAI\n",
        "..\n",
        "UUUUU"
      ],
      "execution_count": null,
      "outputs": []
    },
    {
      "cell_type": "code",
      "metadata": {
        "id": "bI1EM6vSEVvm",
        "colab": {
          "base_uri": "https://localhost:8080/"
        },
        "outputId": "313fba7e-4147-4c5e-f949-a95acee02da9"
      },
      "source": [
        "words = []\n",
        "#cnt = 0\n",
        "def create_words(lev, s):\n",
        "    global words\n",
        "    #global cnt\n",
        "    #cnt += 1\n",
        "    #if cnt > 20: return\n",
        "    #print(lev, s)\n",
        "    VOWELS = ['A', 'E', 'I', 'O', 'U']\n",
        "    words.append(s)\n",
        "    for i in range(0, 5):  # i = 0 1 2 3 4\n",
        "        if lev < 5:\n",
        "            create_words(lev+1, s + VOWELS[i])\n",
        "\n",
        "def solution(word):\n",
        "    global words\n",
        "    words = []\n",
        "    answer = 0\n",
        "    create_words(0, '')\n",
        "    for idx, i in enumerate(words):\n",
        "        if word == i:\n",
        "            answer = idx\n",
        "            break\n",
        "    return answer\n",
        "\n",
        "# 아래는 테스트케이스 출력을 해보기 위한 코드입니다. 아래에는 잘못된 부분이 없으니, 위의 코드만 수정하세요.\n",
        "word1 = \"AAAAE\"\n",
        "ret1 = solution(word1)\n",
        "\n",
        "# [실행] 버튼을 누르면 출력 값을 볼 수 있습니다.\n",
        "print(\"solution 함수의 반환 값은 \", ret1, \" 입니다.\")\n",
        "\n",
        "word2 = \"AAAE\"\n",
        "ret2 = solution(word2)\n",
        "\n",
        "# [실행] 버튼을 누르면 출력 값을 볼 수 있습니다.\n",
        "print(\"solution 함수의 반환 값은 \", ret2, \" 입니다.\")"
      ],
      "execution_count": null,
      "outputs": [
        {
          "output_type": "stream",
          "text": [
            "0 \n",
            "1 A\n",
            "2 AA\n",
            "3 AAA\n",
            "4 AAAA\n",
            "5 AAAAA\n",
            "5 AAAAE\n",
            "5 AAAAI\n",
            "5 AAAAO\n",
            "5 AAAAU\n",
            "4 AAAE\n",
            "5 AAAEA\n",
            "5 AAAEE\n",
            "5 AAAEI\n",
            "5 AAAEO\n",
            "5 AAAEU\n",
            "4 AAAI\n",
            "5 AAAIA\n",
            "5 AAAIE\n",
            "5 AAAII\n",
            "solution 함수의 반환 값은  6  입니다.\n",
            "solution 함수의 반환 값은  0  입니다.\n"
          ],
          "name": "stdout"
        }
      ]
    },
    {
      "cell_type": "markdown",
      "metadata": {
        "id": "cq7c-gtFOXwh"
      },
      "source": [
        "## Cos Pro 1급 4회 문제 2 - 한줄 고치기\n",
        "\n",
        "알파벳 소문자와 대문자로 구성된 문자열을 압축하려 합니다. 압축이란 대표 문자와 대표 문자가 연속되는 개수를 함께 표현하는 것입니다. 이때, 대문자와 소문자는 구분하지 않으며, 대표 문자는 소문자로 표현합니다.\n",
        "\n",
        "예를 들어, 문자열 \"YYYYYbbbBbbBBBMmmM\"을 압축하면 \"y5b9m4\"입니다.\n",
        "\n",
        "문자열 s가 매개변수로 주어질 때, s를 압축한 문자열을 return 하도록 solution 함수를 작성했습니다. 그러나, 일부 코드가 잘못되어 코드가 바르게 동작하지 않습니다. 주어진 코드가 모든 입력을 바르게 처리하도록 코드를 수정해주세요. 코드는 _**한 줄**_만 수정해야 합니다.\n",
        "\n",
        "\n",
        "**▣ 매개변수 설명**\n",
        "\n",
        "문자열 s가 solution 함수의 매개변수로 주어집니다.\n",
        "* s의 길이는 1 이상 100000 이하입니다.\n",
        "* s는 알파벳 소문자, 대문자로만 구성됩니다.\n",
        "* 알파벳이 반복되는 횟수는 9회 이하로만 주어집니다.\n",
        "* 즉, “sssSSSSsss” 와 같은 경우는 주어지지 않습니다.\n",
        "\n",
        "**▣ return 값 설명**\n",
        "\n",
        "s를 압축한 결과를 return 해주세요.\n",
        "\n",
        "**▣ 예시**\n",
        "\n",
        "    | s                    | return   |\n",
        "    |----------------------|----------|\n",
        "    | \"YYYYYbbbBbbBBBMmmM\" | \"y5b9m4\" |\n",
        "\n",
        "**▣ 예시 설명**\n",
        "\n",
        "예시 #1\n",
        "문제의 예와 같습니다.\n"
      ]
    },
    {
      "cell_type": "code",
      "metadata": {
        "id": "HhZwdZ5cOtz8",
        "colab": {
          "base_uri": "https://localhost:8080/"
        },
        "outputId": "f723631d-f659-4a82-ef89-52bba72e3010"
      },
      "source": [
        "# 1. 실행해 본다\n",
        "# 2. 예제를 가지고 solution을 한땀 한땀 수행해 봅니다.\n",
        "def solution(s):  # YYYYYbbbBbbBBBMmmM\n",
        "    s = s.lower() # yyyyybbbbbbbbbmmmm\n",
        "    answer = \"\"\n",
        "    previous = s[0]  # y\n",
        "    counter = 1  # 연속 발생 횟수\n",
        "    for alphabet in s[1:]:  # alphabet = y y y y b b ...\n",
        "        if alphabet == previous:  # 같은 것의 개수 세기\n",
        "            counter += 1\n",
        "        else:\n",
        "            answer += previous + str(counter)  # y5\n",
        "            counter = 1\n",
        "            previous = alphabet\n",
        "    answer += previous + str(counter)\n",
        "    return answer\n",
        "\n",
        "# 아래는 테스트케이스 출력을 해보기 위한 코드입니다. 아래에는 잘못된 부분이 없으니, 위의 코드만 수정하세요.\n",
        "s = \"YYYYYbbbBbbBBBMmmM\"\n",
        "ret = solution(s)\n",
        "\n",
        "# [실행] 버튼을 누르면 출력 값을 볼 수 있습니다.\n",
        "print(\"solution 함수의 반환 값은\", ret, \"입니다.\")"
      ],
      "execution_count": null,
      "outputs": [
        {
          "output_type": "stream",
          "text": [
            "solution 함수의 반환 값은 y5b9m4 입니다.\n"
          ],
          "name": "stdout"
        }
      ]
    },
    {
      "cell_type": "markdown",
      "metadata": {
        "id": "8R_mZOTkRGP8"
      },
      "source": [
        "## Cos Pro 1급 4회 문제 3 - 한줄 고치기\n",
        "\n",
        "정확히 n 일 연속으로 스키장 이용하는데 필요한 최소 비용을 계산하려 합니다. 다음은 스키장에서 판매하는 이용권입니다.\n",
        "\n",
        "    | 이용권 종류 | 스키장을 사용할 수 있는 일수          | 가격            |\n",
        "    |-------------|---------------------------------------|-----------------|\n",
        "    | one_day     | 구매한 날 하루 동안 사용 가능         | one_day_price   |\n",
        "    | multi_day   | 구매한 날부터 multi_day일간 사용 가능 | multi_day_price |\n",
        "\n",
        "예를 들어 one_day_price = 3, multi_day = 5, multi_day_price = 14라면, 1일 이용권은 3원, 5일 이용권은 14원입니다. n = 6일 때 정확히 6일 연속으로 스키장을 이용하는데 필요한 비용은 다음과 같이 계산합니다.\n",
        "\n",
        "* 1일 이용권 x 6장 → 6 x 3원 = 18원\n",
        "* 1일 이용권 x 1장 + 5일 이용권 x 1 장 → 1 x 3원 + 1 x 14원 = 17원\n",
        "\n",
        "따라서 정확히 6일 연속 스키장을 이용하려면 최소 17원이 듭니다.\n",
        "※ 스키장을 정확히 6일간 이용해야 하므로 5일 이용권을 두 장 살 수는 없습니다.\n",
        "\n",
        "solution 함수의 매개변수로 one_day_price, multi_day, multi_day_price, n가 주어집니다. 이때 정확히 n일 연속 스키장을 이용하는데 필요한 최소 금액을 계산해서 return 하도록 solution 함수를 작성했습니다. 그러나, 일부 코드가 잘못되어 코드가 바르게 동작하지 않습니다. 주어진 코드가 모든 입력을 바르게 처리하도록 코드를 수정해주세요. 코드는 _**한 줄**_만 수정해야 합니다.\n",
        "\n",
        "\n",
        "**▣ 매개변수 설명**\n",
        "\n",
        "one_day_price, multi_day, multi_day_price, n이 순서대로 solution 함수의 매개변수로 주어집니다.\n",
        "\n",
        "* one_day_price는 1일 이용권의 가격을 나타냅니다.\n",
        "* one_day_price는 1 이상 1000 이하인 자연수입니다.\n",
        "* multi_day_price는 multi_day일 이용권의 가격을 나타냅니다.\n",
        "* multi_day_price는 1 이상 1000 이하인 자연수입니다.\n",
        "* multi_day는 3 이상 5 이하인 자연수입니다.\n",
        "* n은 1 이상 10^12 이하인 자연수입니다.\n",
        "\n",
        "**▣ return값 설명**\n",
        "\n",
        "정확히 n일 연속으로 스키장을 이용하는데 필요한 최소 금액을 return 해주세요.\n",
        "\n",
        "**▣ 예시**\n",
        "\n",
        "    | one_day_price | multi_day | multi_day_price  | n  | result |\n",
        "    |---------------|-----------|------------------|----|--------|\n",
        "    | 3             | 5         | 14               | 6  | 17     |\n",
        "    | 2             | 3         | 5                | 11 | 19     |\n",
        "\n",
        "**▣ 예시 설명**\n",
        "\n",
        "예시 #1\n",
        "앞서 설명한 예와 같습니다.\n",
        "\n",
        "예시 #2\n",
        "1일 이용권은 2원, 3일 이용권은 5원입니다. 정확히 11일 동안 스키장을 이용할 때 드는 최소 비용은 다음과 같습니다.\n",
        "\n",
        "* 1일 이용권 x 2장 + 3일 이용권 x 3 장 → 2 x 2원 + 3 x 5원 = 19원\n"
      ]
    },
    {
      "cell_type": "code",
      "metadata": {
        "id": "l8uLyZNJRQ2b",
        "colab": {
          "base_uri": "https://localhost:8080/"
        },
        "outputId": "c552575f-9781-4a3a-c084-d29386d8f8c5"
      },
      "source": [
        "# 1. 실행 - 결과는 틀림!!\n",
        "# 2. 한땀 한땀 솔루션 시뮬레이션\n",
        "\n",
        "#  3 * 5 => 15, 5일권 => 14\n",
        "def solution(one_day_price, multi_day, multi_day_price, n):  # 2 3 5 11\n",
        "    if one_day_price * multi_day <= multi_day_price:\n",
        "        return n * one_day_price\n",
        "    else:\n",
        "        return (n % multi_day) * one_day_price + (n // multi_day) * multi_day_price\n",
        "        # (6 % 5) * 14 + (6//5) * 3\n",
        "        # 11일 2일짜리 multi_day => (5)장    one_day => (1)장\n",
        "        \n",
        "# 아래는 테스트케이스 출력을 해보기 위한 코드입니다. 아래에는 잘못된 부분이 없으니, 위의 코드만 수정하세요.\n",
        "one_day_price1 = 3\n",
        "multi_day1 = 5\n",
        "multi_day_price1 = 14\n",
        "n1 = 6\n",
        "ret1 = solution(one_day_price1, multi_day1, multi_day_price1, n1)\n",
        "\n",
        "# [실행] 버튼을 누르면 출력 값을 볼 수 있습니다.\n",
        "print(\"solution 함수의 반환 값은\", ret1, \"입니다.\")\n",
        "\n",
        "one_day_price2 = 2\n",
        "multi_day2 = 3\n",
        "multi_day_price2 = 5\n",
        "n2 = 11\n",
        "ret2 = solution(one_day_price2, multi_day2, multi_day_price2, n2)\n",
        "\n",
        "# [실행] 버튼을 누르면 출력 값을 볼 수 있습니다.\n",
        "print(\"solution 함수의 반환 값은\", ret2, \"입니다.\")"
      ],
      "execution_count": null,
      "outputs": [
        {
          "output_type": "stream",
          "text": [
            "solution 함수의 반환 값은 17 입니다.\n",
            "solution 함수의 반환 값은 19 입니다.\n"
          ],
          "name": "stdout"
        }
      ]
    },
    {
      "cell_type": "markdown",
      "metadata": {
        "id": "89WYaKuMSG3W"
      },
      "source": [
        "## Cos Pro 1급 4회 문제 4 - 빈칸 채우기\n",
        "\n",
        "마방진이란 가로, 세로, 대각선 방향의 수를 더한 값이 모두 같은 정사각형 행렬입니다. 마방진에는 `1`부터 `정사각형 넓이`까지, 수가 하나씩 배치되어야 합니다. 아래는 가로, 세로, 대각선 방향의 수를 더한 값이 모두 34인 4 x 4 마방진입니다.\n",
        "\n",
        "![image.png](data:image/png;base64,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)\n",
        " \n",
        "4 x 4 행렬의 두 빈칸을 채워 행렬을 마방진으로 완성하려 합니다. 빈칸은 0으로 표시합니다. 이를 위해 다음과 같이 프로그램 구조를 작성했습니다.\n",
        "\n",
        "    1. 두 빈칸의 위치를 찾습니다.\n",
        "    2. 숫자 1 ~ 16 중 존재하지 않는 숫자 2개를 찾습니다.\n",
        "    3. 첫 번째 빈칸에 작은 숫자를, 두 번째 빈칸에 큰 숫자를 넣어 행렬이 마방진이 되는지 검사합니다.\n",
        "      4-1. 마방진이라면 [작은 숫자의 행 번호, 작은 숫자의 열 번호, 작은 숫자, 큰 숫자의 행 번호, 큰 숫자의 열 번호, 큰 숫자]를 return 합니다.\n",
        "      4-2. 마방진이 아니라면 [큰 숫자의 행 번호, 큰 숫자의 열 번호, 큰 숫자, 작은 숫자의 행 번호, 작은 숫자의 열 번호, 작은 숫자]를 return 합니다.\n",
        "\n",
        "4 x 4 크기 2차원 리스트 matrix가 매개변수로 주어질 때, 이때 빈칸의 위치와 각 칸에 들어갈 수를 담은 리스트를 return 하도록 solution 함수를 작성하려 합니다. 위 구조를 참고하여 코드가 올바르게 동작하도록 빈칸에 주어진 func_a, func_b, func_c 함수와 매개변수를 알맞게 채워주세요.\n",
        "\n",
        "* 주어진 행렬은 빈칸을 채우면 반드시 마방진으로 완성할 수 있습니다.\n",
        "\n",
        "\n",
        "**▣ 매개변수 설명**\n",
        "\n",
        "2차원 리스트 matrix가 solution 함수의 매개변수로 주어집니다.\n",
        "* matrix는 크기가 4 x 4인 2차원 리스트입니다.\n",
        "* matrix에는 0이 반드시 두 개 들었습니다.\n",
        "* matrix에는 1 이상 16 이하인 자연수 14개가 겹치지 않게 들었습니다.\n",
        "\n",
        "**▣ return 값 설명**\n",
        "\n",
        "빈칸의 위치와 각 칸에 들어갈 수를 담은 리스트를 return 해주세요.\n",
        "\n",
        "**▣ 예시**\n",
        "\n",
        "    | matrix                                           | return        |\n",
        "    |--------------------------------------------------|---------------|\n",
        "    | [[16,2,3,13],[5,11,10,0],[9,7,6,12],[0,14,15,1]] | [4,1,4,2,4,8] |\n",
        " \n",
        "**▣ 예시 설명**\n",
        "\n",
        "예시 #1\n",
        "\n",
        "  ![image.png](data:image/png;base64,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)\n",
        " \n",
        "위 그림에서 빈칸은 (4, 1)과 (2, 4)입니다. 각 칸에 4와 8을 채우면 마방진이 완성됩니다. 따라서 [작은 숫자의 행 번호, 작은 숫자의 열 번호, 작은 숫자, 큰 숫자의 행 번호, 큰 숫자의 열 번호, 큰 숫자]를 return 해야 합니다. 답은 [4, 1, 4, 2, 4, 8]입니다.\n",
        "\n",
        "  ![image.png](data:image/png;base64,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)\n"
      ]
    },
    {
      "cell_type": "code",
      "metadata": {
        "id": "A1qyJy5Z_vr5"
      },
      "source": [
        "# 프로그램 구조\n",
        "1. 두 빈칸의 위치를 찾습니다.\n",
        "2. 숫자 1 ~ 16 중 존재하지 않는 숫자 2개를 찾습니다.\n",
        "3. 첫 번째 빈칸에 작은 숫자를, 두 번째 빈칸에 큰 숫자를 넣어 행렬이 마방진이 되는지 검사합니다.\n",
        "  4-1. 마방진이라면 [작은 숫자의 행 번호, 작은 숫자의 열 번호, 작은 숫자, 큰 숫자의 행 번호, 큰 숫자의 열 번호, 큰 숫자]를 return 합니다.\n",
        "  4-2. 마방진이 아니라면 [큰 숫자의 행 번호, 큰 숫자의 열 번호, 큰 숫자, 작은 숫자의 행 번호, 작은 숫자의 열 번호, 작은 숫자]를 return 합니다."
      ],
      "execution_count": null,
      "outputs": []
    },
    {
      "cell_type": "code",
      "metadata": {
        "colab": {
          "base_uri": "https://localhost:8080/"
        },
        "id": "--xVhkE_WP87",
        "outputId": "b9a8d9e7-4544-474b-8a27-369cccc96a00"
      },
      "source": [
        "# 2. 숫자 1 ~ 16 중 존재하지 않는 숫자 2개를 찾습니다.\n",
        "def func_a(matrix):\n",
        "    n = 4\n",
        "    ret = []\n",
        "    exist = [False for _ in range(n*n + 1)]  # [False, False ...]  # 0 ~ 16 index 보유\n",
        "    # matrix의 각 요소 접근\n",
        "    for i in range(0, n):\n",
        "        for j in range(0, n):\n",
        "                exist[matrix[i][j]] = True  # 사용표시\n",
        "    for i in range(1, n*n+1):\n",
        "        if exist[i] == False:\n",
        "            ret.append(i)\n",
        "    return ret\n",
        "\n",
        "# 1. 두 빈칸의 위치를 찾습니다.\n",
        "def func_b(matrix):\n",
        "    n = 4\n",
        "    ret = []\n",
        "    for i in range(0, n):\n",
        "        for j in range(0, n):\n",
        "            if matrix[i][j] == 0:\n",
        "                ret.append([i, j])\n",
        "    return ret\n",
        "\n",
        "# 마방진인지 아닌지 확인하는 코드\n",
        "def func_c(matrix):\n",
        "    n = 4\n",
        "    goal_sum = sum(range(1, n*n+1))//n\n",
        "    for i in range(0, n):\n",
        "        row_sum = 0\n",
        "        col_sum = 0\n",
        "        for j in range(0, n):\n",
        "            row_sum += matrix[i][j]\n",
        "            col_sum += matrix[j][i]\n",
        "        if row_sum != goal_sum or col_sum != goal_sum:\n",
        "            return False\n",
        "\n",
        "    main_diagonal_sum = 0\n",
        "    skew_diagonal_sum = 0\n",
        "    for i in range(0, n):\n",
        "        main_diagonal_sum += matrix[i][i]\n",
        "        skew_diagonal_sum += matrix[i][n-1-i]\n",
        "    if main_diagonal_sum != goal_sum or skew_diagonal_sum != goal_sum:\n",
        "        return False\n",
        "    return True\n",
        "\n",
        "def solution(matrix):\n",
        "    answer = []\n",
        "    coords = func_b(matrix)  # 0의 좌표 \n",
        "    nums = func_a(matrix) # 1~n*n의 숫자 중 빠진 숫자\n",
        "\n",
        "    matrix[coords[0][0]][coords[0][1]] = nums[0]  # 작은 수\n",
        "    matrix[coords[1][0]][coords[1][1]] = nums[1]  # 큰 수\n",
        "    if func_c(matrix):\n",
        "        for i in range(0, 2):\n",
        "            answer.append(coords[i][0] + 1)\n",
        "            answer.append(coords[i][1] + 1)\n",
        "            answer.append(nums[i])\n",
        "    else:\n",
        "        matrix[coords[0][0]][coords[0][1]] = nums[1]\n",
        "        matrix[coords[1][0]][coords[1][1]] = nums[0]\n",
        "        for i in range(0, 2):\n",
        "            answer.append(coords[1-i][0] + 1)\n",
        "            answer.append(coords[1-i][1] + 1)\n",
        "            answer.append(nums[i])\n",
        "    return answer\n",
        "\n",
        "#아래는 테스트케이스 출력을 해보기 위한 코드입니다.\n",
        "matrix = [[16,2,3,13],[5,11,10,0],[9,7,6,12],[0,14,15,1]]\n",
        "ret = solution(matrix)\n",
        "\n",
        "#[실행] 버튼을 누르면 출력 값을 볼 수 있습니다.\n",
        "print(\"solution 함수의 반환 값은 \", ret, \" 입니다.\")"
      ],
      "execution_count": null,
      "outputs": [
        {
          "output_type": "stream",
          "text": [
            "solution 함수의 반환 값은  [4, 1, 4, 2, 4, 8]  입니다.\n"
          ],
          "name": "stdout"
        }
      ]
    },
    {
      "cell_type": "markdown",
      "metadata": {
        "id": "NFcoTxg1Za1y"
      },
      "source": [
        "## Cos Pro 1급 4회 문제 5 - 빈칸 채우기\n",
        "다음과 같이 새로운 숫자를 생성할 때, n번째 생성할 숫자를 구하려고 합니다.\n",
        "\n",
        "1. 첫 번째 수는 1입니다.\n",
        "2. 다음수를 1의 자리에 추가합니다.\n",
        "3. 만든 숫자를 뒤집습니다.\n",
        "4. 숫자 1부터 9까지 추가하면서 2, 3번째 단계를 반복합니다.\n",
        "5. 숫자 9까지 추가했다면 다시 숫자 1부터 추가합니다.\n",
        "\n",
        "n이 매개변수로 주어질 때, n번째로 생성할 수를 문자열 형태로 return 하는 solution 함수를 작성하려 합니다. 위 구조를 참고하여 코드가 바르게 동작하도록 빈칸을 채워주세요.\n",
        "\n",
        "\n",
        "**▣ 매개변수 설명**\n",
        "\n",
        "숫자 n이 solution 함수의 매개변수로 주어집니다.\n",
        "* n은 1 이상 1,000 이하인 자연수입니다.\n",
        "\n",
        "**▣ return값 설명**\n",
        "\n",
        "solution 함수는 n번째 수를 문자열 형태로 return 합니다.\n",
        "\n",
        "**▣ 예시**\n",
        "\n",
        "    | n | return  |\n",
        "    |---|---------|\n",
        "    | 5 | \"53124\" |\n",
        "\n",
        "**▣ 예시 설명**\n",
        "\n",
        "    첫 번째 숫자: 1\n",
        "    두 번째 숫자: 21\n",
        "    세 번째 숫자: 312\n",
        "    네 번째 숫자: 4213\n",
        "    다섯 번째 숫자: 53124\n",
        "\n",
        "따라서 답은 \"53124\"입니다.\n"
      ]
    },
    {
      "cell_type": "code",
      "source": [
        "1. 첫 번째 수는 1입니다.\n",
        "2. 다음수를 1의 자리에 추가합니다.\n",
        "3. 만든 숫자를 뒤집습니다.\n",
        "4. 숫자 1부터 9까지 추가하면서 2, 3번째 단계를 반복합니다.\n",
        "5. 숫자 9까지 추가했다면 다시 숫자 1부터 추가합니다."
      ],
      "metadata": {
        "id": "UbDKFu6rpbDc"
      },
      "execution_count": null,
      "outputs": []
    },
    {
      "cell_type": "code",
      "source": [
        "1\n",
        "12 -> 21\n",
        "213 -> 312\n",
        "3124 -> 4213\n",
        "42135 -> 53124\n",
        "531246 -> 642135\n",
        "6421357 -> 7531246\n",
        "75312468 -> 86421357\n",
        "864213579 -> 975312468\n",
        "9753124681 -> 1864213579"
      ],
      "metadata": {
        "id": "HYZw0ujuq-H5"
      },
      "execution_count": null,
      "outputs": []
    },
    {
      "cell_type": "code",
      "source": [
        "n = 20\n",
        "# 9개 마다 0으로\n",
        "for i in range(n):\n",
        "    print((i%9)+1, end=' ')"
      ],
      "metadata": {
        "colab": {
          "base_uri": "https://localhost:8080/"
        },
        "id": "pLSpXsxLtWuZ",
        "outputId": "064266a3-f78b-4df2-fc1d-c8004de66a5c"
      },
      "execution_count": null,
      "outputs": [
        {
          "output_type": "stream",
          "name": "stdout",
          "text": [
            "1 2 3 4 5 6 7 8 9 1 2 3 4 5 6 7 8 9 1 2 "
          ]
        }
      ]
    },
    {
      "cell_type": "code",
      "metadata": {
        "id": "l5uBxAswZ5CE",
        "colab": {
          "base_uri": "https://localhost:8080/"
        },
        "outputId": "0fe4e0c1-0992-47b6-f256-c9f9c8fca62f"
      },
      "source": [
        "def solution(n):\n",
        "    answer = ''\n",
        "    for i in range(n):\n",
        "        answer += str((i%9)+1)    # 2번\n",
        "        answer = answer[::-1]     # 3번\n",
        "    return answer\n",
        "\n",
        "#아래는 테스트케이스 출력을 해보기 위한 코드입니다.\n",
        "n = 10\n",
        "ret = solution(n)\n",
        "\n",
        "#[실행] 버튼을 누르면 출력 값을 볼 수 있습니다.\n",
        "print(\"solution 함수의 반환 값은\", ret, \"입니다.\")"
      ],
      "execution_count": null,
      "outputs": [
        {
          "output_type": "stream",
          "name": "stdout",
          "text": [
            "solution 함수의 반환 값은 1864213579 입니다.\n"
          ]
        }
      ]
    },
    {
      "cell_type": "markdown",
      "metadata": {
        "id": "wZVdmJFeazxI"
      },
      "source": [
        "## Cos Pro 1급 4회 문제 6 - 빈칸 채우기\n",
        "\n",
        "어떤 자리 수 k가 주어졌을 때 각 자릿수의 k 제곱의 합이 원래 수가 되는 수를 자아도취 수라고 합니다. 예를 들어 153은 세 자리 자아도취 수입니다.\n",
        "\n",
        " ![image.png](data:image/png;base64,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)\n",
        "\n",
        "자연수 k가 매개변수로 주어질 때, k 자리 자아도취 수들을 리스트에 오름차순으로 담아 return 하도록 solution 함수를 작성하려 합니다. 빈칸을 채워 전체 코드를 완성해주세요.\n",
        "\n",
        "\n",
        "**▣ 매개변수 설명**\n",
        "\n",
        "k가 solution 함수의 매개변수로 주어집니다.\n",
        "* k는 3 이상 6 이하인 자연수입니다.\n",
        "\n",
        "**▣ return 값 설명**\n",
        "\n",
        "k 자리 자아도취 수를 오름차순으로 정렬한 뒤 리스트에 담아 return 합니다.\n",
        "\n",
        "▣ 예시\n",
        "\n",
        "    | k | return               |\n",
        "    |---|----------------------|\n",
        "    | 3 | [153, 370, 371, 407] |\n",
        "\n",
        "▣ 예시 설명\n",
        "* 153 = 1^3 + 5^3 + 3^3 = 1 + 125 + 27 = 153\n",
        "* 370 = 3^3 + 7^3 + 0^3 = 27 + 343 + 0 = 370\n",
        "* 371 = 3^3 + 7^3 + 1^3 = 27 + 343 + 1 = 371\n",
        "* 407 = 4^3 + 0^3 + 7^3 = 64 + 0 + 343 = 407\n"
      ]
    },
    {
      "cell_type": "code",
      "metadata": {
        "colab": {
          "base_uri": "https://localhost:8080/"
        },
        "id": "DrMmcaIp-1bp",
        "outputId": "3fbdd4ba-52d0-4065-c25b-661e08daeb10"
      },
      "source": [
        "10 ** 3"
      ],
      "execution_count": null,
      "outputs": [
        {
          "output_type": "execute_result",
          "data": {
            "text/plain": [
              "1000"
            ]
          },
          "metadata": {
            "tags": []
          },
          "execution_count": 17
        }
      ]
    },
    {
      "cell_type": "code",
      "metadata": {
        "colab": {
          "base_uri": "https://localhost:8080/"
        },
        "id": "zs8SMYB4_yHR",
        "outputId": "6170e711-d443-4bab-c5de-769eed7844f9"
      },
      "source": [
        "current = 153\n",
        "while current != 0:\n",
        "    a = current % 10\n",
        "    current //= 10\n",
        "    print(a, current)"
      ],
      "execution_count": null,
      "outputs": [
        {
          "output_type": "stream",
          "text": [
            "3 15\n",
            "5 1\n",
            "1 0\n"
          ],
          "name": "stdout"
        }
      ]
    },
    {
      "cell_type": "code",
      "metadata": {
        "id": "H2xsohulzdnp",
        "colab": {
          "base_uri": "https://localhost:8080/"
        },
        "outputId": "6cd74744-8749-47a9-abb6-2b9fa060b15e"
      },
      "source": [
        "# base ^ exponent\n",
        "def power(base, exponent):\n",
        "    val = 1\n",
        "    for i in range(exponent):\n",
        "        val *= base\n",
        "    return val\n",
        "\n",
        "def solution(k):  # k = 3\n",
        "    answer = []  # 자아도취 수를 저장할 리스트\n",
        "    bound = power(10, k)  # bound = 1000\n",
        "    for i in range(bound // 10, bound):   # range(100, 1000)  # 세자리 숫자 범위\n",
        "        current = i   # current = 153 \n",
        "        calculated = 0 # 1 + 125 + 27\n",
        "        while current != 0:\n",
        "            calculated += power(current%10, k)\n",
        "            current //= 10\n",
        "        if calculated == i:\n",
        "            answer.append(i)\n",
        "    return answer\n",
        "\n",
        "# 아래는 테스트케이스 출력을 해보기 위한 코드입니다.\n",
        "k = 3\n",
        "ret = solution(k)\n",
        "\n",
        "# [실행] 버튼을 누르면 출력 값을 볼 수 있습니다.\n",
        "print(\"solution 함수의 반환 값은\", ret, \"입니다.\")"
      ],
      "execution_count": null,
      "outputs": [
        {
          "output_type": "stream",
          "text": [
            "solution 함수의 반환 값은 [153, 370, 371, 407] 입니다.\n"
          ],
          "name": "stdout"
        }
      ]
    },
    {
      "cell_type": "markdown",
      "metadata": {
        "id": "fcyZZ-lH0o80"
      },
      "source": [
        "## Cos Pro 1급 4회 문제 7 - 클래스\n",
        "게임에 몬스터, 전사, 힐러 세 종류의 유닛이 있습니다. \n",
        "\n",
        "유닛들의 공격과 힐링에 따른 체력치의 변화를 계산하기 위해 아래와 같이 Unit, Monster, Warrior, Healer 클래스를 작성했습니다.\n",
        "\n",
        "  ![image.png](data:image/png;base64,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)\n",
        "\n",
        "- Unit :\n",
        "  - Unit : 유닛을 나타내는 클래스입니다.\n",
        "  * HP : 유닛의 체력을 나타냅니다. 유닛의 초기 체력은 1,000입니다.\n",
        "  * under_attack : 유닛이 공격을 받으면 유닛의 체력을 감소시킵니다.\n",
        "\n",
        "* Monster :\n",
        "  * Monster : 몬스터를 나타내는 클래스이며 Unit을 상속합니다.\n",
        "  * attak_point : 몬스터의 공격력 입니다.\n",
        "  * under_attack : 몬스터가 공격을 받으면 몬스터의 체력을 감소시킵니다.\n",
        "  * attack : 몬스터의 attack_point를 return 합니다.\n",
        "\n",
        "* Warrior :\n",
        "  * Warrior : 전사를 나타내는 클래스이며 Unit을 상속합니다.\n",
        "  * attak_point : 전사의 공격력 입니다.\n",
        "  * under_attack : 전사가 공격을 받으면 전사의 체력을 감소시킵니다.\n",
        "  * attack : 전사의 attack_point를 return 합니다.\n",
        "\n",
        "* Healer : \n",
        "  * Healer : 힐러를 나타내는 클래스이며 Unit을 상속합니다.\n",
        "  * healing_point : 힐러의 회복치 입니다.\n",
        "  * under_attack : 힐러가 공격을 받으면 힐러의 체력을 감소시킵니다.\n",
        "  * healing : 대상 유닛의 체력을 healing_point 만큼 회복시킵니다.  회복 후 대상 유닛의 체력은 기본 체력 1,000보다 커질 수 있습니다.\n",
        "\n",
        "게임에서 각 유닛들이 다음과 같이 행동 했을 때, 몬스터, 전사, 힐러의 남은 체력을 구하려 합니다.\n",
        "\n",
        "* 몬스터가 전사와 힐러를 한 번씩 공격했습니다.\n",
        "* 전사가 몬스터를 한 번 공격했습니다.\n",
        "* 힐러가 몬스터와 전사의 체력을 한 번씩 회복했습니다.\n",
        "\n",
        "몬스터의 공력력 monster_attack_point, 전사의 공격력 warrior_attack_point, 힐러의 회복치 healing_point가 매개변수로 주어질 때, 각 유닛이 행동을 마친 후 몬스터, 전사, 힐러의 남은 체력을 순서대로 리스트에 담아 return 하도록 solution 함수를 작성하려 합니다. 위 클래스 구조를 참고하여 주어진 코드의 빈칸을 적절히 채워 전체 코드를 완성해주세요.\n",
        "\n",
        "**▣ 매개변수 설명**\n",
        "\n",
        "몬스터의 공격력 monster_attack_point, 전사의 공격력 warrior_attack_point, 힐러의 회복치 healing_point가 solution 함수의 매개변수로 주어집니다.\n",
        "\n",
        "* monster_attack_point는 1 이상 500 이하의 자연수입니다.\n",
        "* warrior_attack_point는 1 이상 500 이하의 자연수입니다.\n",
        "* healing_point는 1 이상 500 이하의 자연수입니다.\n",
        "\n",
        "**▣ return 값 설명**\n",
        "\n",
        "각 유닛이 문제에 주어진 행동을 마친 후 몬스터, 전사, 힐러의 남은 체력을 순서대로 리스트에 담아 return 해주세요.\n",
        "\n",
        "**▣ 예시**\n",
        "\n",
        "| monster_attack_point | warrior_attack_point | healing_point | return          |\n",
        "|----------------------|----------------------|---------------|-----------------|\n",
        "| 100                  | 90                   | 30            | [940, 930, 900] |\n",
        "\n",
        "**▣ 예시 설명**\n",
        "\n",
        "* 몬스터 공격력 : 100\n",
        "* 전사 공격력 : 90\n",
        "* 힐러 회복치 : 30\n",
        "\n",
        "몬스터가 전사와 힐러를 한 번씩 공격하면 각 유닛의 남은 체력은 다음과 같습니다.\n",
        "\n",
        "| 몬스터 체력 | 전사 체력 | 힐러 체력 |\n",
        "|-------------|-----------|-----------|\n",
        "| 1000        | 900       | 900       |\n",
        "\n",
        "전사가 몬스터를 한 번 공격하면 각 유닛의 남은 체력은 다음과 같습니다.\n",
        "\n",
        "| 몬스터 체력 | 전사 체력 | 힐러 체력 |\n",
        "|-------------|-----------|-----------|\n",
        "| 910        | 900       | 900       |\n",
        "\n",
        "힐러가 몬스터와 전사의 체력을 한 번씩 회복하면 각 유닛의 남은 체력은 다음과 같습니다.\n",
        "\n",
        "| 몬스터 체력 | 전사 체력 | 힐러 체력 |\n",
        "|-------------|-----------|-----------|\n",
        "| 940        | 930       | 900       |\n",
        "\n",
        "따라서 [940, 930, 900]을 return 하면 됩니다.\n",
        "\n",
        "\n"
      ]
    },
    {
      "cell_type": "code",
      "metadata": {
        "id": "plvkApoV2sgN",
        "colab": {
          "base_uri": "https://localhost:8080/"
        },
        "outputId": "c7bf7b81-2b12-42f6-a279-0080f75791b6"
      },
      "source": [
        "class Unit:\n",
        "    def __init__(self):\n",
        "        self.HP = 1000\n",
        "    def under_attack(self, damage):\n",
        "        pass\n",
        "\n",
        "class Monster(Unit):\n",
        "    def __init__(self, attack_point):\n",
        "        super().__init__()\n",
        "        self.attack_point = attack_point\n",
        "    def under_attack(self, damage):\n",
        "        self.HP -= damage\n",
        "    def attack(self):\n",
        "        return self.attack_point\n",
        "\n",
        "class Warrior(Unit):\n",
        "    def __init__(self, attack_point):\n",
        "        super().__init__()\n",
        "        self.attack_point = attack_point\n",
        "    def under_attack(self, damage):\n",
        "        self.HP -= damage\n",
        "    def attack(self):\n",
        "        return self.attack_point\n",
        "\n",
        "class Healer(Unit):\n",
        "    def __init__(self, healing_point):\n",
        "        super().__init__()\n",
        "        self.healing_point = healing_point\n",
        "    def under_attack(self, damage):\n",
        "        self.HP -= damage\n",
        "    def healing(self, unit):\n",
        "        unit.HP += self.healing_point\n",
        "\n",
        "\n",
        "def solution(monster_attack_point, warrior_attack_point, healing_point):\n",
        "    monster = Monster(monster_attack_point)\n",
        "    warrior = Warrior(warrior_attack_point)\n",
        "    healer = Healer(healing_point)\n",
        "\n",
        "    # 전사가 몬스터를 한 번 공격\n",
        "    monster.under_attack(warrior.attack())\n",
        "    # 몬스터가 전사를 한 번 공격\n",
        "    warrior.under_attack(monster.attack())\n",
        "    # 몬스터가 힐러를 한 번 공격\n",
        "    healer.under_attack(monster.attack())\n",
        "    # 힐러가 전사의 체력을 한 번 회복\n",
        "    healer.healing(warrior)\n",
        "    # 힐러가 몬스터의 체력을 한 번 회복\n",
        "    healer.healing(monster)\n",
        "\n",
        "    answer = [monster.HP, warrior.HP, healer.HP]\n",
        "    return answer\n",
        "\n",
        "# 아래는 테스트케이스 출력을 해보기 위한 코드입니다.\n",
        "monster_attack_point = 100\n",
        "warrior_attack_point = 90\n",
        "healing_point = 30\n",
        "ret = solution(monster_attack_point, warrior_attack_point, healing_point)\n",
        "\n",
        "# [실행] 버튼을 누르면 출력 값을 볼 수 있습니다.\n",
        "print(\"solution 함수의 반환 값은\", ret, \"입니다.\")"
      ],
      "execution_count": null,
      "outputs": [
        {
          "output_type": "stream",
          "text": [
            "solution 함수의 반환 값은 [940, 930, 900] 입니다.\n"
          ],
          "name": "stdout"
        }
      ]
    },
    {
      "cell_type": "markdown",
      "metadata": {
        "id": "5Toncprt3fhf"
      },
      "source": [
        "## Cos Pro 1급 4회 문제 8 - 구현\n",
        "1 이상 9 이하 숫자가 적힌 카드를 이어 붙여 숫자를 만들었습니다. 이때, 숫자 카드를 조합해 만든 수 중에서 n이 몇 번째로 작은 수인지 구하려 합니다.\n",
        "\n",
        "예를 들어, 숫자 카드 1, 2, 1, 3로 만들 수 있는 수를 작은 순으로 나열하면 [1123, 1132, 1213, 1231, 1312, ... , 3121, 3211]입니다. n이 1312라면, 숫자 카드를 조합해 만든 수 중  n은 5번째로 작은 수입니다.\n",
        "\n",
        "숫자 카드를 담은 리스트 card, 수 n이 매개변수로 주어질 때 숫자 카드를 조합해 만든 수 중에서 n이 몇 번째로 작은 수인지 return 하도록 solution 함수를 완성해주세요.\n",
        "\n",
        "\n",
        "**▣ 매개변수 설명**\n",
        "\n",
        "카드에 적힌 숫자를 담은 리스트 card, 수 n이 solution 함수의 매개변수로 주어집니다.\n",
        "* card는 길이가 9 이하인 리스트입니다.\n",
        "* card의 원소는 1 이상 9 이하인 자연수입니다.\n",
        "* n은 999,999,999 이하인 자연수입니다.\n",
        "* n의 자릿수는 리스트 card의 길이와 같습니다.\n",
        "* n의 각 자리의 숫자는 1 이상 9 이하입니다.\n",
        "\n",
        "**▣ return 값 설명**\n",
        "\n",
        "숫자 카드를 조합해 만든 수 중에서 n이 몇 번째로 작은 수인지 return 해주세요.\n",
        "\n",
        "* 만약, n을 만들 수 없다면 -1을 return 해주세요.\n",
        "\n",
        "**▣ 예시**\n",
        "\n",
        "| card         | n    | return |\n",
        "|--------------|------|--------|\n",
        "| [1, 2, 1, 3] | 1312 | 5      |\n",
        "| [1, 1, 1, 2] | 1122 | -1     |\n",
        "\n",
        "**▣ 예시 설명**\n",
        "\n",
        "예시 #1 : 앞서 설명한 예와 같습니다.\n",
        "\n",
        "예시 #2 : 숫자 카드를 조합하면 [1112, 1121, 1211, 2111]를 만들 수 있습니다. 따라서 1122는 만들 수 없습니다.\n"
      ]
    },
    {
      "cell_type": "code",
      "metadata": {
        "colab": {
          "base_uri": "https://localhost:8080/"
        },
        "id": "aPNGSmqQ08CQ",
        "outputId": "0133d3ab-f1d2-4afd-f055-f22d5b1068dd"
      },
      "source": [
        "card = [1, 2, 1, 3]\n",
        "\n",
        "card_cnt = [0] * 10\n",
        "for x in card:\n",
        "    card_cnt[x] += 1\n",
        "print(card_cnt)"
      ],
      "execution_count": null,
      "outputs": [
        {
          "output_type": "stream",
          "text": [
            "[0, 2, 1, 1, 0, 0, 0, 0, 0, 0]\n"
          ],
          "name": "stdout"
        }
      ]
    },
    {
      "cell_type": "code",
      "metadata": {
        "id": "n7FU5RjZ1FNJ"
      },
      "source": [
        "# level : 몇 번째 카드를 뽑는 것인가? 0->1->2->3->4\n",
        "# max_level : 총 뽑을 카드의 수 : len(card)\n",
        "# card_cnt : 각 번호 카드가 몇 장 있는지 표기한 것\n",
        "# card_used : number를 만들기 위해 각 번호 카드가 몇 장 사용되었는지 표기한 것\n",
        "# number : 만들어지고 있는 / 만들어진 숫자\n",
        "def card_pick(level, max_level, card_cnt, card_used, number):\n",
        "\n",
        "    if level == max_level:\n",
        "        num_list.append(number)\n",
        "        return\n",
        "\n",
        "    for i in range(1, 10):\n",
        "        if card_cnt[i] > card_used[i]:\n",
        "            card_used[i] += 1\n",
        "            card_pick(level+1, max_level, card_cnt, card_used, number*10+i)\n",
        "            card_used[i] -= 1\n",
        "\n",
        "card_pick(0, len(card), card_cnt, [0]*10, 0)"
      ],
      "execution_count": null,
      "outputs": []
    },
    {
      "cell_type": "code",
      "metadata": {
        "colab": {
          "base_uri": "https://localhost:8080/"
        },
        "id": "LVOMDbvF3mm5",
        "outputId": "68c0df67-39f6-4a4e-bcb9-7ce238440ff7"
      },
      "source": [
        "a = [1, 2, 1, 3]\n",
        "b = 0\n",
        "for x in a : # x = 1, b = 1 /  x = 2, b = 12  / x = 1, b = 121 / x = 3, b = 1213\n",
        "    b = b * 10 + x\n",
        "    print(b, x)\n",
        "print(b)"
      ],
      "execution_count": null,
      "outputs": [
        {
          "output_type": "stream",
          "text": [
            "1 1\n",
            "12 2\n",
            "121 1\n",
            "1213 3\n",
            "1213\n"
          ],
          "name": "stdout"
        }
      ]
    },
    {
      "cell_type": "markdown",
      "metadata": {
        "id": "3IWf88ks7xek"
      },
      "source": [
        "### 풀이 1"
      ]
    },
    {
      "cell_type": "code",
      "metadata": {
        "id": "TtjhKibmkk3n",
        "colab": {
          "base_uri": "https://localhost:8080/"
        },
        "outputId": "b98ebda1-efd4-44e1-cf2f-20946e26899d"
      },
      "source": [
        "# 다음과 같이 import를 사용할 수 있습니다.\n",
        "# import math\n",
        "\n",
        "def get_card_cnt(card):\n",
        "    card_cnt = [0] * 10\n",
        "    for x in card:\n",
        "        card_cnt[x] += 1\n",
        "    return card_cnt\n",
        "\n",
        "\n",
        "num_list = []\n",
        "def card_pick(level, max_level, card_cnt, card_used, number):\n",
        "\n",
        "    if level == max_level:\n",
        "        num_list.append(number)\n",
        "        return\n",
        "\n",
        "    for i in range(1, 10):\n",
        "        if card_cnt[i] > card_used[i]:\n",
        "            card_used[i] += 1\n",
        "            card_pick(level+1, max_level, card_cnt, card_used, number*10+i)\n",
        "            card_used[i] -= 1\n",
        "\n",
        "\n",
        "def solution2(card, n):\n",
        "    # 여기에 코드를 작성해주세요.\n",
        "    #global num_list\n",
        "    card_cnt = get_card_cnt(card)\n",
        "    num_list.clear()\n",
        "    card_pick(0, len(card), card_cnt, [0]*10, 0)\n",
        "    #print(num_list)\n",
        "    return num_list.index(n) + 1 if n in num_list else -1\n",
        "\n",
        "def solution(card, n):\n",
        "    card_cnt = get_card_cnt(card)\n",
        "    x = list(map(int, str(n)))\n",
        "    x_cnt = get_card_cnt(x)\n",
        "    if card_cnt == x_cnt :\n",
        "        num_list.clear()\n",
        "        card_pick(0, len(card), card_cnt, [0]*10, 0)\n",
        "        ans = num_list.index(n) + 1 \n",
        "    else:\n",
        "        ans = -1\n",
        "    return ans\n",
        "\n",
        "# 아래는 테스트케이스 출력을 해보기 위한 코드입니다.\n",
        "card1 = [1, 2, 1, 3]\n",
        "n1 = 1312\n",
        "ret1 = solution(card1, n1)\n",
        "\n",
        "# [실행] 버튼을 누르면 출력 값을 볼 수 있습니다.\n",
        "print(\"solution 함수의 반환 값은 \", ret1, \" 입니다.\")\n",
        "\n",
        "# 아래는 테스트케이스 출력을 해보기 위한 코드입니다.\n",
        "card2 = [1, 1, 1, 2]\n",
        "n2 = 1122\n",
        "ret2 = solution(card2, n2)\n",
        "\n",
        "# [실행] 버튼을 누르면 출력 값을 볼 수 있습니다.\n",
        "print(\"solution 함수의 반환 값은 \", ret2, \" 입니다.\")"
      ],
      "execution_count": null,
      "outputs": [
        {
          "output_type": "stream",
          "text": [
            "solution 함수의 반환 값은  5  입니다.\n",
            "solution 함수의 반환 값은  -1  입니다.\n"
          ],
          "name": "stdout"
        }
      ]
    },
    {
      "cell_type": "markdown",
      "metadata": {
        "id": "4WqPLo8171Kb"
      },
      "source": [
        "### 풀이 2 - 틀린 풀이!\n",
        "- 조심"
      ]
    },
    {
      "cell_type": "code",
      "metadata": {
        "id": "1Zr0EhZQ73wx"
      },
      "source": [
        "# 다음과 같이 import를 사용할 수 있습니다.\n",
        "# import math\n",
        "\n",
        "def get_card_cnt(card):\n",
        "    card_cnt = [0] * 10\n",
        "    for x in card:\n",
        "        card_cnt[x] += 1\n",
        "    return card_cnt\n",
        "\n",
        "\n",
        "num_list = []\n",
        "def card_pick(level, max_level, card_used, number):\n",
        "\n",
        "    if level >= max_level:\n",
        "        print(number, max_level)\n",
        "        num_list.append(number)\n",
        "        return\n",
        "\n",
        "    for i in range(max_level):\n",
        "        if card_used[i]: continue\n",
        "        card_used[i] = 1\n",
        "        card_pick(level+1, max_level, card_used, number*10+card[i])\n",
        "        card_used[i] = 0\n",
        "\n",
        "\n",
        "def solution(card, n):\n",
        "    card.sort()\n",
        "    x_card = sorted(map(int, str(n)))\n",
        "    if card == x_card :\n",
        "        num_list.clear()\n",
        "        card_pick(0, len(card), [0]*10, 0)\n",
        "        ans = num_list.index(n) + 1 \n",
        "        print(num_list)\n",
        "    else:\n",
        "        ans = -1\n",
        "    return ans\n",
        "\n",
        "# 아래는 테스트케이스 출력을 해보기 위한 코드입니다.\n",
        "card1 = [1, 2, 1, 3]\n",
        "n1 = 1312\n",
        "ret1 = solution(card1, n1)\n",
        "\n",
        "# [실행] 버튼을 누르면 출력 값을 볼 수 있습니다.\n",
        "print(\"solution 함수의 반환 값은 \", ret1, \" 입니다.\")\n",
        "\n",
        "# 아래는 테스트케이스 출력을 해보기 위한 코드입니다.\n",
        "card2 = [1, 1, 1, 2]\n",
        "n2 = 1122\n",
        "ret2 = solution(card2, n2)\n",
        "\n",
        "# [실행] 버튼을 누르면 출력 값을 볼 수 있습니다.\n",
        "print(\"solution 함수의 반환 값은 \", ret2, \" 입니다.\")"
      ],
      "execution_count": null,
      "outputs": []
    },
    {
      "cell_type": "markdown",
      "metadata": {
        "id": "P4_GtLpH4rpG"
      },
      "source": [
        "## Cos Pro 1급 4회 문제 9 - 구현\n",
        "\n",
        "hour 시 minute 분에 아날로그 시계의 시침과 분침이 몇 도를 이루는지 계산하려 합니다. 예를 들어, 3시 00분에 시침과 분침은 90˚를 이룹니다.\n",
        "\n",
        "어떤 시점의 시 hour, 분 minute이 매개변수로 주어질 때, hour 시 minute 분에 아날로그 시계의 시침과 분침이 이루는 각도를 소숫점 첫번째 자리까지 표현한 문자열을 return 하도록 solution 함수를 작성해주세요.\n",
        "\n",
        "\n",
        "**▣ 매개변수 설명**\n",
        "\n",
        "어떤 시점의 시 hour, 분 minute이 solution 함수의 매개변수로 주어집니다.\n",
        "* hour는 1 이상 12 이하인 자연수입니다.\n",
        "* minute은 0 이상 59 이하인 정수입니다.\n",
        "\n",
        "\n",
        "**▣ return 값 설명**\n",
        "\n",
        "hour 시 minute 분에 아날로그 시계의 시침과 분침이 이루는 각도를 소숫점 첫번째 자리까지 표현한 문자열을 return 하세요.\n",
        "* 단, 각도는 __소수점 이하 첫째 자리까지__ 표현하세요.\n",
        "\n",
        "**▣ 예시**\n",
        "\n",
        "| hour | minute | return |\n",
        "|------|--------|--------|\n",
        "| 3    | 0      | \"90.0\" |\n",
        "\n",
        "**▣ 예시 설명**\n",
        "\n",
        "앞서 설명한 예와 같습니다.\n",
        " \n"
      ]
    },
    {
      "cell_type": "code",
      "metadata": {
        "colab": {
          "base_uri": "https://localhost:8080/"
        },
        "id": "M-tIltMZVWK2",
        "outputId": "d1563973-baee-4dee-b263-2c0a74210c99"
      },
      "source": [
        "360/12"
      ],
      "execution_count": null,
      "outputs": [
        {
          "output_type": "execute_result",
          "data": {
            "text/plain": [
              "30.0"
            ]
          },
          "metadata": {
            "tags": []
          },
          "execution_count": 35
        }
      ]
    },
    {
      "cell_type": "code",
      "metadata": {
        "colab": {
          "base_uri": "https://localhost:8080/"
        },
        "id": "Vxp7TlwmT6Eb",
        "outputId": "3bfc9d16-4b83-409a-863c-a32b7a9dae96"
      },
      "source": [
        "hour = 3\n",
        "minute = 59\n",
        "# 시침\n",
        "h = (360/12) * hour + (360/12/60) * minute\n",
        "# 분침\n",
        "m = (360/60) * minute\n",
        "print(h - m, abs(h-m), 360 - abs(h-m))"
      ],
      "execution_count": null,
      "outputs": [
        {
          "output_type": "stream",
          "text": [
            "-234.5 234.5 125.5\n"
          ],
          "name": "stdout"
        }
      ]
    },
    {
      "cell_type": "code",
      "metadata": {
        "id": "-0L7CbQn5Bvb",
        "colab": {
          "base_uri": "https://localhost:8080/"
        },
        "outputId": "6190833b-4b0e-4106-99f9-50cc95e3ed86"
      },
      "source": [
        "# 다음과 같이 import를 사용할 수 있습니다.\n",
        "# import math\n",
        "\n",
        "def solution(hour, minute):\n",
        "    h = (360/12) * hour + (360/12/60) * minute\n",
        "    m = (360/60) * minute\n",
        "    answer = abs(h-m)\n",
        "    if answer > 180:\n",
        "        answer = 360 - answer\n",
        "    #answer = f'{answer:.1f}'   # v3.6 이상\n",
        "    #answer = '{:.1f}'.format(answer)  # 버전 상관 없음\n",
        "    answer = '%.1f' % (answer) # 버전 상관 없음\n",
        "    return answer\n",
        "\n",
        "# 아래는 테스트케이스 출력을 해보기 위한 코드입니다.\n",
        "hour = 3\n",
        "minute = 0\n",
        "ret = solution(hour, minute)\n",
        "\n",
        "# [실행] 버튼을 누르면 출력 값을 볼 수 있습니다.\n",
        "print(\"solution 함수의 반환 값은 \", ret, \" 입니다.\")"
      ],
      "execution_count": null,
      "outputs": [
        {
          "output_type": "stream",
          "text": [
            "solution 함수의 반환 값은  90.0  입니다.\n"
          ],
          "name": "stdout"
        }
      ]
    },
    {
      "cell_type": "markdown",
      "metadata": {
        "id": "O0ZAylHf6nze"
      },
      "source": [
        "## Cos Pro 1급 4회 문제 10 - 구현\n",
        "\n",
        "자연수를 제곱한 수는 제곱수, 세 제곱한 수는 세제곱 수라고 합니다. 예를 들어 2^2 = 4 는 제곱수, 3^3 = 27은 세제곱수 입니다.\n",
        "\n",
        "두 자연수 a, b가 주어질 때 a 이상 b 이하인 자연수 중 _**소수**_의 제곱수와 세제곱수의 개수를 구하려 합니다. 예를 들어 a = 6, b = 30일 때 소수의 제곱수는 [9, 25]로 2개, 소수의 세제곱수는 [8, 27]로 2개로 총 4개입니다.\n",
        "\n",
        "두 자연수 a, b가 매개변수로 주어질 때, a 이상 b 이하인 제곱수와 세제곱수의 개수의 합을 return 하도록 solution 함수를 완성해주세요.\n",
        "\n",
        "\n",
        "**▣ 매개변수 설명**\n",
        "\n",
        "두 자연수 a, b가 solution 함수의 매개변수로 주어집니다.\n",
        "* a, b는 각각 1 이상 1,000,000,000 이하인 자연수입니다.\n",
        "* a ≤ b인 경우만 입력으로 주어집니다.\n",
        "\n",
        "**▣ return 값 설명**\n",
        "\n",
        " a 이상 b 이하인 제곱수와 세제곱수의 개수의 합을 return 해주세요.\n",
        "\n",
        "**▣ 예시**\n",
        "\n",
        "| a | b  | return |\n",
        "|---|----|--------|\n",
        "| 6 | 30 | 4      |\n",
        "\n",
        "**▣ 예시 설명**\n",
        "\n",
        "6 이상 30 이하인 수중 소수의 제곱수는 다음과 같습니다.\n",
        "\n",
        "* 3^2 = 9\n",
        "* 5^2 = 25\n",
        "\n",
        "소수의 세제곱 수는 다음과 같습니다.\n",
        "\n",
        "* 2^3 = 8\n",
        "* 3^3 = 27\n",
        "\n",
        "따라서 4를 return 하면 됩니다.\n"
      ]
    },
    {
      "cell_type": "code",
      "metadata": {
        "colab": {
          "base_uri": "https://localhost:8080/"
        },
        "id": "6FGIReF1Z8hG",
        "outputId": "3295d9eb-35dc-4bce-91d5-ac7201adb25f"
      },
      "source": [
        "import math\n",
        "math.sqrt(1000000000)"
      ],
      "execution_count": null,
      "outputs": [
        {
          "output_type": "execute_result",
          "data": {
            "text/plain": [
              "31622.776601683792"
            ]
          },
          "metadata": {
            "tags": []
          },
          "execution_count": 44
        }
      ]
    },
    {
      "cell_type": "code",
      "metadata": {
        "colab": {
          "base_uri": "https://localhost:8080/"
        },
        "id": "IqecNCeUajTV",
        "outputId": "2dba1812-6978-4c15-f584-b0847a41eeb9"
      },
      "source": [
        "def get_prime(b):               # b = 30\n",
        "    e = int(math.sqrt(b)) + 1   # e = 5  # 제곱수로 사용될 소수의 범위\n",
        "    print(e)\n",
        "    is_prime = [0] * (e)        # is_prime[x] = 0 -> prime number, 1 -> prime number 아님\n",
        "    prime = []\n",
        "    for i in range(2, e):\n",
        "        if is_prime[i] == 0:\n",
        "            prime.append(i)  # i는 소수 목록에 추가한다\n",
        "            for x in range(i+i, e, i):\n",
        "                is_prime[x] = 1  # 소수가 아님을 표시\n",
        "    return prime\n",
        "\n",
        "get_prime(30)   # "
      ],
      "execution_count": null,
      "outputs": [
        {
          "output_type": "stream",
          "text": [
            "6\n"
          ],
          "name": "stdout"
        },
        {
          "output_type": "execute_result",
          "data": {
            "text/plain": [
              "[2, 3, 5]"
            ]
          },
          "metadata": {
            "tags": []
          },
          "execution_count": 46
        }
      ]
    },
    {
      "cell_type": "code",
      "metadata": {
        "id": "uVCz59FoayVx"
      },
      "source": [
        "e : 소수를 구할 범위"
      ],
      "execution_count": null,
      "outputs": []
    },
    {
      "cell_type": "code",
      "metadata": {
        "id": "DU-wSfyn8ILx",
        "colab": {
          "base_uri": "https://localhost:8080/"
        },
        "outputId": "7808042d-c6b5-4770-e326-7d0676b18d51"
      },
      "source": [
        "#다음과 같이 import를 사용할 수 있습니다.\n",
        "import math\n",
        "\n",
        "def get_prime(b):               # b = 30\n",
        "    e = int(math.sqrt(b)) + 1   # e = 5  # 제곱수로 사용될 소수의 범위\n",
        "    #print(e)\n",
        "    is_prime = [0] * (e)        # is_prime[x] = 0 -> prime number, 1 -> prime number 아님\n",
        "    prime = []\n",
        "    for i in range(2, e):\n",
        "        if is_prime[i] == 0:\n",
        "            prime.append(i)  # i는 소수 목록에 추가한다\n",
        "            for x in range(i+i, e, i):\n",
        "                is_prime[x] = 1  # 소수가 아님을 표시\n",
        "    return prime\n",
        "\n",
        "def solution(a, b):\n",
        "    # 여기에 코드를 작성해주세요.\n",
        "    prime = get_prime(b)\n",
        "    answer = 0\n",
        "    for p in prime:\n",
        "        t1, t2 = p**2, p**3\n",
        "        if a<=t1<=b: answer += 1\n",
        "        if a<=t2<=b: answer += 1\n",
        "    return answer\n",
        "\n",
        "#아래는 테스트케이스 출력을 해보기 위한 코드입니다.\n",
        "a =  6\n",
        "b =  30\n",
        "ret = solution(a, b)\n",
        "\n",
        "#[실행] 버튼을 누르면 출력 값을 볼 수 있습니다.\n",
        "print(\"solution 함수의 반환 값은\", ret, \"입니다.\")"
      ],
      "execution_count": null,
      "outputs": [
        {
          "output_type": "stream",
          "text": [
            "6\n",
            "solution 함수의 반환 값은 4 입니다.\n"
          ],
          "name": "stdout"
        }
      ]
    }
  ]
}