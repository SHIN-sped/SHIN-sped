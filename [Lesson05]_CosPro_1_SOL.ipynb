{
  "nbformat": 4,
  "nbformat_minor": 0,
  "metadata": {
    "colab": {
      "provenance": [],
      "toc_visible": true,
      "include_colab_link": true
    },
    "kernelspec": {
      "name": "python3",
      "display_name": "Python 3"
    }
  },
  "cells": [
    {
      "cell_type": "markdown",
      "metadata": {
        "id": "view-in-github",
        "colab_type": "text"
      },
      "source": [
        "<a href=\"https://colab.research.google.com/github/SHIN-sped/SHIN-sped/blob/master/%5BLesson05%5D_CosPro_1_SOL.ipynb\" target=\"_parent\"><img src=\"https://colab.research.google.com/assets/colab-badge.svg\" alt=\"Open In Colab\"/></a>"
      ]
    },
    {
      "cell_type": "markdown",
      "metadata": {
        "id": "TXDidvrb-g41"
      },
      "source": [
        "## Cos Pro 1급 5회 문제 1 - 빈칸 채우기\n",
        "\n",
        "계단 n칸을 올라가는 방법의 수를 구하려고 합니다. 계단은 한 번에 1계단, 2계단, 3계단씩 오를 수 있습니다.\n",
        "예를 들어, 계단 3칸을 오르는 방법은 다음과 같이 4가지가 있습니다.\n",
        "\n",
        "1. 1계단 + 1계단 + 1계단\n",
        "2. 1계단 + 2계단\n",
        "3. 2계단 + 1계단\n",
        "4. 3계단\n",
        "\n",
        "계단 수 n이 매개변수로 주어질 때, 계단을 오르는 경우의 수를 return 하도록 solution 함수를 작성하려 합니다. 빈칸을 채워 전체 코드를 완성해주세요.\n",
        "\n",
        "\n",
        "▣ 매개변수 설명\n",
        "\n",
        "계단 수 n이 solution 함수의 매개변수로 주어집니다.\n",
        "* n은 3 이상 30 이하인 정수입니다.\n",
        "\n",
        "▣ return 값 설명\n",
        "\n",
        "계단을 오르는 경우의 수를 return 합니다.\n",
        "\n",
        "▣ 입출력 예\n",
        "\n",
        "    | n | return |\n",
        "    |---|--------|\n",
        "    | 3 | 4      |\n",
        "    | 4 | 7      |\n",
        "\n",
        "▣ 입출력 예 설명\n",
        "\n",
        "예시 #1\n",
        "문제에 나온 예와 같습니다.\n",
        "\n",
        "예시 #2\n",
        "계단 4칸을 오르는 방법은 다음과 같이 7가지가 있습니다.\n",
        "\n",
        "1. 1계단 + 1계단 + 1계단 + 1계단\n",
        "2. 1계단 + 1계단 + 2계단\n",
        "3. 1계단 + 2계단 + 1계단\n",
        "4. 2계단 + 1계단 + 1계단\n",
        "5. 1계단 + 3계단\n",
        "6. 3계단 + 1계단\n",
        "7. 2계단 + 2계단\n",
        "\n"
      ]
    },
    {
      "cell_type": "code",
      "source": [
        "steps = [0, 1, 2, 4, 7]  # 가설 : n일 때   n-1, n-2, n-3 을 더한 것\n",
        "                         # n=5, 7+4+2 => 13\n",
        "n = 5\n",
        "1 1 1 1 1\n",
        "1 1 1 2\n",
        "1 1 2 1\n",
        "1 2 1 1\n",
        "2 1 1 1\n",
        "1 1 3\n",
        "1 3 1\n",
        "3 1 1\n",
        "1 2 2\n",
        "2 1 2\n",
        "2 2 1\n",
        "2 3\n",
        "3 2"
      ],
      "metadata": {
        "id": "nHta61Tizv9y"
      },
      "execution_count": null,
      "outputs": []
    },
    {
      "cell_type": "code",
      "metadata": {
        "id": "ADpx7RdmlKJi",
        "colab": {
          "base_uri": "https://localhost:8080/"
        },
        "outputId": "70bc746f-6663-43a3-e0a2-b6ce5ab4bf4d"
      },
      "source": [
        "def solution(n):\n",
        "\tanswer = 0\n",
        "\tsteps = [0 for _ in range(n+1)]\n",
        "\tsteps[1] = 1\n",
        "\tsteps[2] = 2\n",
        "\tsteps[3] = 4\n",
        "\tfor i in range(4, n+1):\n",
        "\t\tsteps[i] = sum(steps[i-3:i]) # steps[i-1] + steps[i-2] + steps[i-3]\n",
        "\tanswer = steps[n]\n",
        "\treturn answer\n",
        "\n",
        "#아래는 테스트케이스 출력을 해보기 위한 코드입니다.\n",
        "n1 = 3\n",
        "ret1 = solution(n1)\n",
        "\n",
        "#[실행] 버튼을 누르면 출력 값을 볼 수 있습니다.\n",
        "print(\"solution 함수의 반환 값은\", ret1, \"입니다.\")\n",
        "\n",
        "n2 = 4\n",
        "ret2 = solution(n2)\n",
        "\n",
        "#[실행] 버튼을 누르면 출력 값을 볼 수 있습니다.\n",
        "print(\"solution 함수의 반환 값은\", ret2, \"입니다.\")"
      ],
      "execution_count": null,
      "outputs": [
        {
          "output_type": "stream",
          "name": "stdout",
          "text": [
            "solution 함수의 반환 값은 4 입니다.\n",
            "solution 함수의 반환 값은 7 입니다.\n"
          ]
        }
      ]
    },
    {
      "cell_type": "markdown",
      "metadata": {
        "id": "8gXMIRXSRQsS"
      },
      "source": [
        "## Cos Pro 1급 5회 문제 2 - 한줄 수정하기\n",
        "\n",
        "아래와 같이 벽이 여러 개 있을 때, 벽 2개를 제외한 나머지 벽을 제거하여 물을 최대한 담으려 합니다. 물은 `두 벽 사이의 거리 x 두 벽 중 낮은 벽의 높이`리터 만큼 담을 수 있으며, 두 벽의 거리는 두 벽의 위치 차이입니다.\n",
        "\n",
        "![image.png](data:image/png;base64,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)\n",
        "\n",
        "모든 벽의 위치와 높이를 담은 2차원 리스트 walls가 매개변수로 주어질 때, 물을 최대 몇 리터나 담을 수 있는지 return 하도록 solution 함수를 작성했습니다. 그러나, 일부 코드가 잘못되어 코드가 바르게 동작하지 않습니다. 주어진 코드가 모든 입력을 바르게 처리하도록 코드를 수정해주세요. 코드는 _**한 줄**_만 수정해야 합니다.\n",
        "\n",
        "\n",
        "▣ 매개변수 설명\n",
        "\n",
        "모든 벽의 위치와 높이를 담은 2차원 리스트 walls가 solution 함수의 매개변수로 주어집니다.\n",
        "* walls는 길이가 3이상 100이하인 2차원 리스트입니다.\n",
        "* walls의 각 원소는 [벽의 위치, 벽의 높이] 이고, 벽의 위치를 기준으로 오름차순으로 정렬되어 있습니다.\n",
        "    * 벽의 위치는 1 이상 100 이하입니다.\n",
        "    * 벽의 높이는 1 이상 100 이하입니다.\n",
        "\n",
        "▣ return 값 설명\n",
        "\n",
        "물을 최대 몇 리터나 담을 수 있는지 return 합니다.\n",
        "\n",
        "▣ 입출력 예\n",
        "\n",
        "    | walls                                    | return |\n",
        "    |------------------------------------------|--------|\n",
        "    | [[1, 4], [2, 6], [3, 5], [5, 3], [6, 2]] | 12     |\n",
        "\n",
        "▣ 입출력 예 설명\n",
        "아래와 같이 벽을 남겼을 때 물을 최대로 담을 수 있습니다. 이 때 최대 12리터를 담을 수 있습니다.\n",
        "\n",
        "![image.png](data:image/png;base64,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)\n",
        " \n"
      ]
    },
    {
      "cell_type": "code",
      "source": [
        "walls = [[1, 4], [2, 6], [3, 5], [5, 3], [6, 2]]  # 오름차순으로 정렬\n",
        "# 5C2 : 조합\n",
        "n = 5\n",
        "for i in range(n-1):\n",
        "    for j in range(i+1, n):\n",
        "        print(i, j, sep=',', end='  ')\n",
        "print()        "
      ],
      "metadata": {
        "colab": {
          "base_uri": "https://localhost:8080/"
        },
        "id": "0O08yhpq2vH-",
        "outputId": "f2790474-8b14-4228-9b12-ad541647ea2f"
      },
      "execution_count": null,
      "outputs": [
        {
          "output_type": "stream",
          "name": "stdout",
          "text": [
            "0,1  0,2  0,3  0,4  1,2  1,3  1,4  2,3  2,4  3,4  \n"
          ]
        }
      ]
    },
    {
      "cell_type": "code",
      "source": [
        "# 5C3 : 조합\n",
        "n = 5\n",
        "for i in range(n-2):\n",
        "    for j in range(i+1, n-1):\n",
        "        for k in range(j+1, n):\n",
        "            print(i, j, k, sep=',', end='  ')\n",
        "print() "
      ],
      "metadata": {
        "colab": {
          "base_uri": "https://localhost:8080/"
        },
        "id": "TF_0EWX33ngb",
        "outputId": "709d2a68-82d9-4522-8807-265fa755b464"
      },
      "execution_count": null,
      "outputs": [
        {
          "output_type": "stream",
          "name": "stdout",
          "text": [
            "0,1,2  0,1,3  0,1,4  0,2,3  0,2,4  0,3,4  1,2,3  1,2,4  1,3,4  2,3,4  \n"
          ]
        }
      ]
    },
    {
      "cell_type": "code",
      "metadata": {
        "id": "ECtQoDyoSrKV",
        "colab": {
          "base_uri": "https://localhost:8080/"
        },
        "outputId": "0be9de26-16fc-40b5-8376-5e9524069d0a"
      },
      "source": [
        "# 두 벽 사이의 거리 x 두 벽 중 낮은 벽의 높이\n",
        "def solution(walls):\n",
        "    answer = 0\n",
        "    for i in range(len(walls)):  \n",
        "    \tfor j in range(i+1, len(walls)):\n",
        "    \t\tarea = 0\n",
        "    \t\tif walls[i][1] < walls[j][1]:  # 더 낮은 벽의 높이를 사용해야 함!\n",
        "    \t\t\tarea = walls[i][1] * (walls[j][0] - walls[i][0])\n",
        "    \t\telse:\n",
        "    \t\t\tarea = walls[j][1] * (walls[j][0] - walls[i][0])\n",
        "    \t\tif answer < area:\n",
        "    \t\t\tanswer = area\n",
        "    return answer\n",
        "\n",
        "#아래는 테스트케이스 출력을 해보기 위한 코드입니다. 아래에는 잘못된 부분이 없으니, 위의 코드만 수정하세요.\n",
        "walls = [[1, 4], [2, 6], [3, 5], [5, 3], [6, 2]]\n",
        "ret = solution(walls)\n",
        "\n",
        "#[실행] 버튼을 누르면 출력 값을 볼 수 있습니다.\n",
        "print(\"solution 함수의 반환 값은\", ret, \"입니다.\")"
      ],
      "execution_count": null,
      "outputs": [
        {
          "output_type": "stream",
          "name": "stdout",
          "text": [
            "solution 함수의 반환 값은 12 입니다.\n"
          ]
        }
      ]
    },
    {
      "cell_type": "markdown",
      "metadata": {
        "id": "zjRydoYfUozk"
      },
      "source": [
        "## Cos Pro 1급 5회 문제 3 - 한줄 수정하기\n",
        "서로 다른 정수 n개가 담긴 리스트가 있습니다. 이 리스트를 앞 `(n+1)/2`개 원소는 증가하고 뒤 `(n+1)/2`개 원소는 감소하도록 정렬하려고 합니다. 이때, 조건을 만족하는 리스트가 여럿인 경우 사전순으로 가장 먼저 나오는 리스트를 답으로 합니다. 예를 들어, 주어진 리스트가 [7, 3, 4, 1, 2, 5, 6]라면 정렬한 이후에는 [1, 2, 3, 7, 6, 5, 4]가 됩니다.\n",
        "\n",
        "정수 리스트가 numbers가 매개변수로 주어질 때, 문제의 조건에 맞게 정렬하여 return 하도록 solution 함수를 작성했습니다. 그러나, 코드 일부분이 잘못되어있기 때문에, 몇몇 입력에 대해서는 올바르게 동작하지 않습니다. 주어진 코드에서 _**한 줄**_만 변경해서 모든 입력에 대해 올바르게 동작하도록 수정하세요.\n",
        "\n",
        "\n",
        "▣ 매개변수 설명\n",
        "\n",
        "정수 리스트가 numbers가 solution 함수의 매개변수로 주어집니다.\n",
        "* numbers의 각 원소는 -1,000 이상 1,000 이하인 정수이며, 중복되는 수는 없습니다.\n",
        "* numbers의 길이는 3 이상 10,000 이하인 홀수입니다.\n",
        "\n",
        "▣ return 값 설명\n",
        "\n",
        "주어진 리스트를 앞 `(n+1)/2`개 원소는 증가하고 뒤 `(n+1)/2`개 원소는 감소하도록 정렬하여 return 합니다.\n",
        "조건을 만족하는 리스트가 여럿인 경우 사전순으로 가장 먼저 나오는 리스트를 답으로 합니다.\n",
        "\n",
        "▣ 입출력 예\n",
        "\n",
        "    | numbers               | return                |\n",
        "    |-----------------------|-----------------------|\n",
        "    | [7, 3, 4, 1, 2, 5, 6] | [1, 2, 3, 7, 6, 5, 4] |\n",
        "\n",
        "▣ 입출력 예 설명\n",
        "\n",
        "문제에 나온 예와 같습니다.\n"
      ]
    },
    {
      "cell_type": "code",
      "source": [
        "#  [1, 2, 3, 7, 6, 5, 4]\n",
        "n = 7\n",
        "(n+1)//2, (n-1)//2"
      ],
      "metadata": {
        "colab": {
          "base_uri": "https://localhost:8080/"
        },
        "id": "91dtoMcKHMWe",
        "outputId": "6939c8e4-e90e-4b41-e83d-4d1c42dc1e3a"
      },
      "execution_count": null,
      "outputs": [
        {
          "output_type": "execute_result",
          "data": {
            "text/plain": [
              "(4, 3)"
            ]
          },
          "metadata": {},
          "execution_count": 25
        }
      ]
    },
    {
      "cell_type": "code",
      "source": [
        "a, b = 10, 20\n",
        "a, b = b, a  # swap\n",
        "print(a, b)"
      ],
      "metadata": {
        "colab": {
          "base_uri": "https://localhost:8080/"
        },
        "id": "kK223HDrIOig",
        "outputId": "9460e2c0-e6a0-4e6d-ee21-0c53c0e1d7a4"
      },
      "execution_count": null,
      "outputs": [
        {
          "output_type": "stream",
          "name": "stdout",
          "text": [
            "20 10\n"
          ]
        }
      ]
    },
    {
      "cell_type": "code",
      "source": [
        "#  [1, 2, 3, 4, 5, 6, 7]\n",
        "#  [1, 2, 3, 7, 5, 6, 4]  # swap\n",
        "#              left \n",
        "#                right\n",
        "#  [1, 2, 3, 7, 6, 5, 4]  # swap\n",
        "#                  left\n",
        "#              right"
      ],
      "metadata": {
        "id": "G2POAXbfIeej"
      },
      "execution_count": null,
      "outputs": []
    },
    {
      "cell_type": "code",
      "metadata": {
        "id": "-6Sl2VL8WNry",
        "colab": {
          "base_uri": "https://localhost:8080/"
        },
        "outputId": "75a3b981-caa5-4ce6-c643-a4f953163c94"
      },
      "source": [
        "def solution(numbers):\n",
        "    answer = []\n",
        "    numbers.sort()  # 오름차순 정렬\n",
        "    mid = (len(numbers) - 1) // 2  # 가운데 index 번호 구하기\n",
        "    numbers[mid], numbers[len(numbers)-1] = numbers[len(numbers)-1], numbers[mid]  # swap\n",
        "    left = mid + 1\n",
        "    right = len(numbers) - 2  #  right의 시작 변경!  \n",
        "    while left <= right:\n",
        "    \tnumbers[left], numbers[right] = numbers[right], numbers[left] # swap\n",
        "    \tleft = left + 1\n",
        "    \tright = right - 1\n",
        "    answer = numbers\n",
        "    return answer\n",
        "\n",
        "#아래는 테스트케이스 출력을 해보기 위한 코드입니다. 아래에는 잘못된 부분이 없으니 위의 코드만 수정하세요.\n",
        "numbers = [7, 3, 4, 1, 2, 5, 6]\n",
        "ret = solution(numbers)\n",
        "\n",
        "#[실행] 버튼을 누르면 출력 값을 볼 수 있습니다.\n",
        "print(\"solution 함수의 반환 값은\", ret, \"입니다.\")"
      ],
      "execution_count": null,
      "outputs": [
        {
          "output_type": "stream",
          "name": "stdout",
          "text": [
            "solution 함수의 반환 값은 [1, 2, 3, 7, 6, 5, 4] 입니다.\n"
          ]
        }
      ]
    },
    {
      "cell_type": "markdown",
      "metadata": {
        "id": "Zsm1M1OBgHwH"
      },
      "source": [
        "## Cos Pro 1급 5회 문제 4 - 한줄 수정하기\n",
        "주어진 숫자를 각 숫자와 숫자의 개수로 읽으려 합니다. 이때, 값이 큰 숫자를 먼저 읽어야합니다.\n",
        "\n",
        "예를 들어, 2433은 2 한개 4 한개 3 두개로 이루어져 있기 때문에 \"413221\"로 읽습니다. \n",
        "\n",
        "숫자 number가 매개변수로 주어질 때, 숫자를 읽어 문자열로 return 하도록 solution 함수를 작성했습니다. 그러나, 일부 코드가 잘못되어 코드가 바르게 동작하지 않습니다. 주어진 코드가 모든 입력을 바르게 처리하도록 코드를 수정해주세요. 코드는 _**한 줄**_만 수정해야 합니다.\n",
        "\n",
        "\n",
        "▣ 매개변수 설명\n",
        "\n",
        "숫자 number가 solution 함수의 매개변수로 주어집니다.\n",
        "* number는 0 이상 2,000,000,000 이하인 정수입니다.\n",
        "\n",
        "▣ return 값 설명\n",
        "\n",
        "주어진 숫자를 읽어 문자열 형태로 return 합니다.\n",
        "\n",
        "▣ 예시\n",
        "\n",
        "    | number | return |\n",
        "    |--------|----------|\n",
        "    | 2433   | \"413221\" |\n",
        "    | 662244 | \"624222\" |\n",
        "\n",
        "▣ 예시 설명\n",
        "\n",
        "예시 #1\n",
        "\n",
        "문제에 나온 예와 같습니다.\n",
        "\n",
        "예시 #2\n",
        "\n",
        "662244는 6 두개 2 두개 4 두개로 이루어져 있기 때문에 \"624222\"로 읽습니다.\n"
      ]
    },
    {
      "cell_type": "code",
      "source": [
        "number = 224466\n",
        "number_count = [0 for _ in range(10)]\n",
        "while number > 0:\n",
        "    number_count[number % 10] += 1\n",
        "    number //= 10   \n",
        "\n",
        "print(number_count)"
      ],
      "metadata": {
        "colab": {
          "base_uri": "https://localhost:8080/"
        },
        "id": "cB3OHTc0KzEi",
        "outputId": "5fa66497-b242-42dc-b5ae-66cee5d33204"
      },
      "execution_count": null,
      "outputs": [
        {
          "output_type": "stream",
          "name": "stdout",
          "text": [
            "[0, 0, 2, 0, 2, 0, 2, 0, 0, 0]\n"
          ]
        }
      ]
    },
    {
      "cell_type": "code",
      "source": [
        "list(range(9, -1, -1))"
      ],
      "metadata": {
        "colab": {
          "base_uri": "https://localhost:8080/"
        },
        "id": "NmEYA8IxLuwv",
        "outputId": "0787454a-1f35-489c-a140-cf08e1b24c74"
      },
      "execution_count": null,
      "outputs": [
        {
          "output_type": "execute_result",
          "data": {
            "text/plain": [
              "[9, 8, 7, 6, 5, 4, 3, 2, 1, 0]"
            ]
          },
          "metadata": {},
          "execution_count": 38
        }
      ]
    },
    {
      "cell_type": "code",
      "metadata": {
        "id": "a1SlkfLlgXmv",
        "colab": {
          "base_uri": "https://localhost:8080/"
        },
        "outputId": "1ce2f48b-e1f4-4c3c-8a21-cd94a3964caf"
      },
      "source": [
        "def solution(number):\n",
        "    answer = ''\n",
        "    number_count = [0 for _ in range(10)]  # [0] * 10\n",
        "    while number > 0:\n",
        "        number_count[number % 10] += 1\n",
        "        number //= 10\n",
        "    for i in range(9, -1, -1):   # i = 0, 1, 2, ... 9 => i = 9, 8, 7, ... 0\n",
        "        if number_count[i] != 0:\n",
        "            answer += (str(i) + str(number_count[i]))\n",
        "    return answer\n",
        "\n",
        "#아래는 테스트케이스 출력을 해보기 위한 코드입니다. 아래에는 잘못된 부분이 없으니, 위의 코드만 수정하세요.\n",
        "number1 = 2433\n",
        "ret1 = solution(number1)\n",
        "\n",
        "#[실행] 버튼을 누르면 출력 값을 볼 수 있습니다.\n",
        "print(\"solution 함수의 반환 값은\", ret1, \"입니다.\")\n",
        "\n",
        "number2 = 662244\n",
        "ret2 = solution(number2)\n",
        "\n",
        "#[실행] 버튼을 누르면 출력 값을 볼 수 있습니다.\n",
        "print(\"solution 함수의 반환 값은\", ret2, \"입니다.\")"
      ],
      "execution_count": null,
      "outputs": [
        {
          "output_type": "stream",
          "name": "stdout",
          "text": [
            "solution 함수의 반환 값은 413221 입니다.\n",
            "solution 함수의 반환 값은 624222 입니다.\n"
          ]
        }
      ]
    },
    {
      "cell_type": "markdown",
      "metadata": {
        "id": "MvxEZs4ti6Mx"
      },
      "source": [
        "## Cos Pro 1급 5회 문제 5 - 구현\n",
        "\n",
        "XX게임에선 캐릭터는 자신과 공격력이 같거나 자신보다 공격력이 작은 몬스터에게 이깁니다. 내가 가진 캐릭터가 최대 몬스터 몇 마리를 이길 수 있는지 구하려 합니다. 단, 한 캐릭터는 한 번만 싸울 수 있습니다.\n",
        "\n",
        "예를 들어, 세 몬스터의 공격력이 각각 [1, 4, 3]이고, 내가 가진 두 캐릭터의 공격력이 각각 [1, 3]이라면 첫 번째 캐릭터는 첫 번째 몬스터와, 두 번째 캐릭터는 세 번째 몬스터와 싸워서 이길 수 있습니다. 따라서 이길 수 있는 몬스터 수는 최대 2마리입니다. \n",
        "\n",
        "모든 몬스터의 공격력을 담은 리스트 enemies, 내가 가진 모든 캐릭터의 공격력을 담은 리스트 armies가 매개변수로 주어질 때, 내 캐릭터로는 최대 몬스터 몇 마리를 이길 수 있는지 return 하도록 solution 함수를 작성해주세요.\n",
        "\n",
        "\n",
        "▣ 매개변수 설명\n",
        "\n",
        "모든 몬스터의 공격력을 담은 리스트 enemies, 내가 가진 모든 캐릭터의 공격력을 담은 리스트 armies가 solution 함수의 매개변수로 주어집니다.\n",
        "* 몬스터 수는 1마리 이상, 500마리 이하입니다.\n",
        "* 각 몬스터의 공격력은 1 이상 100 이하입니다.\n",
        "* 내가 가진 캐릭터 수는 1개 이상 500개 이하입니다.\n",
        "* 각 캐릭터의 공격력은 1 이상 100 이하입니다.\n",
        "\n",
        "▣ return 값 설명\n",
        "\n",
        "내가 가진 캐릭터로는 최대 몬스터 몇 마리를 이길 수 있는지 return 해주세요.\n",
        "\n",
        "▣ 입출력 예\n",
        "\n",
        "    | enemies   | armies       | return |\n",
        "    |-----------|--------------|--------|\n",
        "    | [1, 4, 3] | [1, 3]       | 2      |\n",
        "    | [1, 1, 1] | [1, 2, 3, 4] | 3      |\n",
        "\n",
        "▣ 입출력 예 설명\n",
        "\n",
        "입출력 예 #1\n",
        "\n",
        "문제에 나온 예와 같습니다.\n",
        "\n",
        "입출력 예 #2\n",
        "\n",
        "캐릭터를 어떻게 보내도 모든 몬스터를 이길 수 있습니다.\n",
        "\n",
        "\n"
      ]
    },
    {
      "cell_type": "code",
      "metadata": {
        "colab": {
          "base_uri": "https://localhost:8080/"
        },
        "id": "fC5O1V22oHz4",
        "outputId": "81b7f3b5-049c-481a-9888-209d70dbd78f"
      },
      "source": [
        "#다음과 같이 import를 사용할 수 있습니다.\n",
        "#import math\n",
        "\n",
        "def solution(enemies, armies):\n",
        "    #여기에 코드를 작성해주세요.\n",
        "    answer = ''\n",
        "    return answer\n",
        "\n",
        "\n",
        "#아래는 테스트케이스 출력을 해보기 위한 코드입니다.\n",
        "enemies1 = [1, 4, 3]\n",
        "armies1 = [1, 3]\n",
        "ret1 = solution(enemies1, armies1)\n",
        "\n",
        "#[실행] 버튼을 누르면 출력 값을 볼 수 있습니다.\n",
        "print(\"solution 함수의 반환 값은\", ret1, \"입니다.\")\n",
        "\n",
        "enemies2 = [1, 1, 1]\n",
        "armies2 = [1, 2, 3, 4]\n",
        "ret2 = solution(enemies2, armies2)\n",
        "\n",
        "#[실행] 버튼을 누르면 출력 값을 볼 수 있습니다.\n",
        "print(\"solution 함수의 반환 값은\", ret2, \"입니다.\")"
      ],
      "execution_count": null,
      "outputs": [
        {
          "output_type": "stream",
          "name": "stdout",
          "text": [
            "solution 함수의 반환 값은 2 입니다.\n",
            "solution 함수의 반환 값은 3 입니다.\n"
          ]
        }
      ]
    },
    {
      "cell_type": "markdown",
      "metadata": {
        "id": "AyRvt52jrU9y"
      },
      "source": [
        "## Cos Pro 1급 5회 문제 6 - 구현\n",
        "\n",
        "p 진법으로 표현한 수란, 각 자리를 0부터 p-1의 숫자로만 나타낸 수를 의미합니다. p 진법으로 표현한 자연수 두개를 더한 결과를 q 진법으로 표현하려 합니다.\n",
        "\n",
        "예를 들어, 3진법 수 112001과 12010을 더한 결과를 8진법으로 나타내면 1005입니다.\n",
        "\n",
        "solution 함수의 매개변수로 p 진법 자연수를 담은 문자열 s1, s2와 두 수를 나타내는 진법의 기수 p, 두 수의 덧셈 결과를 표현할 진법의 기수 q가 매개변수로 주어집니다. p진법으로 표현된 두 수를 더한 결과를 q 진법으로 나타낸 값을 return 하도록 solution 함수를 완성해주세요.\n",
        "\n",
        "\n",
        "▣ 매개변수 설명\n",
        "\n",
        "p 진법으로 자연수를 담은 문자열 s1, s2와 두 수를 표현한 진법의 기수 p, 두 수의 덧셈 결과를 표현할 진법의 기수 q가 solution 함수의 매개변수로 주어집니다.\n",
        "* p와 q는 2 이상 10 이하인 자연수입니다.\n",
        "* s1과 s2의 길이는 1 이상 9 이하입니다.\n",
        "* s1과 s2의 원소는 '0', '1', '2', …, ‘p-1’로만 구성됩니다.\n",
        "* s1이나 s2가 ‘0’인 경우는 주어지지 않습니다.\n",
        "\n",
        "▣ return 값 설명\n",
        "\n",
        "두 수를 더한 결과를 q 진법으로 나타낸 값을 문자열로 return 하도록 solution 함수를 완성해주세요.\n",
        "\n",
        "▣ 예시\n",
        "\n",
        "    | s1       | s2      | p | q | return |\n",
        "    |----------|---------|---|---|---------|\n",
        "    | \"112001\" | \"12010\" | 3 | 8 | \"1005\" |\n",
        "\n",
        "▣ 예시 설명\n",
        "\n",
        "문제에 나온 예와 같습니다. \n",
        "\n"
      ]
    },
    {
      "cell_type": "code",
      "source": [
        "s1 = \"112001\"\n",
        "p = 3\n",
        "sum(int(x) * p**i for i, x in enumerate(s1[::-1]))"
      ],
      "metadata": {
        "colab": {
          "base_uri": "https://localhost:8080/"
        },
        "id": "Z6K0FYeZsaev",
        "outputId": "730aa81a-8b28-4b19-ab56-f3aaaf4b9a1c"
      },
      "execution_count": null,
      "outputs": [
        {
          "output_type": "execute_result",
          "data": {
            "text/plain": [
              "379"
            ]
          },
          "metadata": {},
          "execution_count": 15
        }
      ]
    },
    {
      "cell_type": "code",
      "metadata": {
        "id": "-LYewuWbvKpO",
        "colab": {
          "base_uri": "https://localhost:8080/"
        },
        "outputId": "7acbd842-54e1-4277-a97c-117f1380ea19"
      },
      "source": [
        "#다음과 같이 import를 사용할 수 있습니다.\n",
        "#import math\n",
        "def to_decimal(s, p):\n",
        "    return sum(int(x) * p**i for i, x in enumerate(s[::-1]) if x != '0')\n",
        "\n",
        "def to_target(A, q):\n",
        "    B = []\n",
        "    while A > 0 :\n",
        "        A, n = divmod(A, q)\n",
        "        B.append(n)\n",
        "    return ''.join(map(str, B[::-1]))\n",
        "\n",
        "def solution(s1, s2, p, q):\n",
        "    #여기에 코드를 작성해주세요.\n",
        "    A = to_decimal(s1, p) + to_decimal(s2, p)    \n",
        "    return to_target(A, q)\n",
        "\n",
        "#아래는 테스트케이스 출력을 해보기 위한 코드입니다.\n",
        "s1 = \"112001\"\n",
        "s2 = \"12010\"\n",
        "p = 3\n",
        "q = 8\n",
        "ret = solution(s1, s2, p, q)\n",
        "\n",
        "#[실행] 버튼을 누르면 출력 값을 볼 수 있습니다.\n",
        "print(\"solution 함수의 반환 값은\", ret, \"입니다.\")"
      ],
      "execution_count": null,
      "outputs": [
        {
          "output_type": "stream",
          "name": "stdout",
          "text": [
            "solution 함수의 반환 값은 1005 입니다.\n"
          ]
        }
      ]
    },
    {
      "cell_type": "code",
      "source": [
        "#112001\n",
        "1*3**0 + 2*3**3 + 1*3**4 + 1*3**5"
      ],
      "metadata": {
        "colab": {
          "base_uri": "https://localhost:8080/"
        },
        "id": "gGiBOuB2nNkf",
        "outputId": "47041a7e-649e-4dac-bb5a-3db27a74067c"
      },
      "execution_count": null,
      "outputs": [
        {
          "output_type": "execute_result",
          "data": {
            "text/plain": [
              "379"
            ]
          },
          "metadata": {},
          "execution_count": 3
        }
      ]
    },
    {
      "cell_type": "code",
      "source": [
        "#12010\n",
        "1 * 3**1 + 2 * 3**3 + 1 * 3**4"
      ],
      "metadata": {
        "colab": {
          "base_uri": "https://localhost:8080/"
        },
        "id": "eK_4Yl0qnq3v",
        "outputId": "1947e87c-8fcb-445e-e948-cfa49626d5f9"
      },
      "execution_count": null,
      "outputs": [
        {
          "output_type": "execute_result",
          "data": {
            "text/plain": [
              "138"
            ]
          },
          "metadata": {},
          "execution_count": 4
        }
      ]
    },
    {
      "cell_type": "markdown",
      "metadata": {
        "id": "QMB6ix5F-WkG"
      },
      "source": [
        "## Cos Pro 1급 5회 문제 7 - 빈칸 채우기\n",
        "\n",
        "그래프의 노드 수와 노드 연결 순서가 주어질 때, 몇 번째 연결에 사이클이 생기는지 알고 싶습니다. 예를 들어, 노드가 3개이고 노드를 [[1, 2], [1, 3], [2, 3]] 순으로 연결한다면 아래 그림과 같습니다.\n",
        "\n",
        "![image.png](data:image/png;base64,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)\n",
        "                            \n",
        "\n",
        "따라서 3번째 연결에서 사이클이 생깁니다.\n",
        "\n",
        "그래프의 노드 수 n, 노드 연결 순서 connections가 매개변수로 주어질 때, 몇 번째 연결에 사이클이 생기는지 return 하도록 solution 함수를 작성하려 합니다. 빈칸을 채워 전체 코드를 완성해주세요.\n",
        "\n",
        "\n",
        "▣ 매개변수 설명\n",
        "\n",
        "그래프의 노드 수 n, 노드 연결 순서 connections가 solution 함수의 매개변수로 주어집니다.\n",
        "* 그래프의 노드 수 n은 3 이상 10 이하입니다.\n",
        "* connections은 길이가 3 이상 50 이하인 리스트입니다.\n",
        "* connections 리스트의 각 행은 [a, b]는 a번 노드와 b번 노드를 연결한다는 의미입니다.\n",
        "* 항상 사이클이 생기는 경우만 주어집니다.\n",
        "\n",
        "▣ return 값 설명\n",
        "\n",
        "몇 번째 연결에서 사이클이 생기는지 return 합니다.\n",
        "\n",
        "▣ 예제\n",
        "\n",
        "    | n | connections              | return |\n",
        "    |---|--------------------------|--------|\n",
        "    | 3 | [[1, 2], [1, 3], [2, 3]] | 3      |\n",
        "\n",
        "▣ 예제 설명\n",
        "\n",
        "문제에 나온 예와 같습니다.\n",
        " \n"
      ]
    },
    {
      "cell_type": "code",
      "source": [
        "n = 5\n",
        "parent = [x for x in range(n+1)]\n",
        "print(parent)"
      ],
      "metadata": {
        "colab": {
          "base_uri": "https://localhost:8080/"
        },
        "id": "KdnuBhHR097L",
        "outputId": "11acb7fa-63b7-45b8-f2cf-314a065dcb2e"
      },
      "execution_count": null,
      "outputs": [
        {
          "output_type": "stream",
          "name": "stdout",
          "text": [
            "[0, 1, 2, 3, 4, 5]\n"
          ]
        }
      ]
    },
    {
      "cell_type": "code",
      "metadata": {
        "colab": {
          "base_uri": "https://localhost:8080/"
        },
        "id": "a_3O7ZDm-xy7",
        "outputId": "f157bc68-cb7b-444c-b205-ec5d738f259b"
      },
      "source": [
        "# 원소가 속한 집합을 반환\n",
        "\n",
        "def find(parent, u):\n",
        "    # 자기 자신에 연결된 상태면 자기 자신을 반환\n",
        "    if u == parent[u]:   # parent = [0, 2, 2, 3]    u = 1\n",
        "        return u\n",
        "    parent[u] = find(parent, parent[u])\n",
        "    return parent[u]\n",
        "\n",
        "# 두 원소 a, b 가 주어질 때, 이들이 속한 두 집합을 하나로 합침\n",
        "def merge(parent, u, v):\n",
        "    u = find(parent, u)\n",
        "    v = find(parent, v)\n",
        "    print(u, v)\n",
        "    if u == v:\n",
        "        return True  # cycle 존재\n",
        "    parent[u] = v   #  u와 v를 연결한다   # [0, 2, 3, 3]\n",
        "    print(parent)\n",
        "    return False\n",
        "\n",
        "def solution(n, connections):\n",
        "    answer = 0\n",
        "    # n 개의 원소가 각각의 집합에 포함되어 있도록 초기화\n",
        "    parent = list(range(n+1)) # [0, 1, 2, 3]\n",
        "    for i, connection in enumerate(connections):  # i = 순번\n",
        "        if merge(parent, connection[0], connection[1]):\n",
        "            answer = i + 1\n",
        "            break\n",
        "    return answer\n",
        "\n",
        "#아래는 테스트케이스 출력을 해보기 위한 코드입니다.\n",
        "n = 3\n",
        "connections = [[1, 2], [1, 3], [2, 3]]\n",
        "ret = solution(n, connections)\n",
        "\n",
        "#[실행] 버튼을 누르면 출력 값을 볼 수 있습니다.\n",
        "print(\"solution 함수의 반환 값은\", ret, \"입니다.\")"
      ],
      "execution_count": null,
      "outputs": [
        {
          "output_type": "stream",
          "name": "stdout",
          "text": [
            "1 2\n",
            "[0, 2, 2, 3]\n",
            "2 3\n",
            "[0, 2, 3, 3]\n",
            "3 3\n",
            "solution 함수의 반환 값은 3 입니다.\n"
          ]
        }
      ]
    },
    {
      "cell_type": "markdown",
      "metadata": {
        "id": "JktfSxQzCoAh"
      },
      "source": [
        "## Cos Pro 1급 5회 문제 8 - 빈칸 채우기\n",
        "\n",
        "세 수 a, b, c의 공약수가 몇 개인지 구하려고 합니다. 공약수란, 동시에 모든 정수의 약수인 정수를 뜻합니다. 예를 들어, 세 수 24, 9, 15의 공약수는 1, 3이고, 따라서 양의 공약수는 2개입니다.\n",
        "\n",
        "세 수의 공약수가 몇 개인지 구하기 위해 다음과 같이 프로그램 구조를 작성했습니다.\n",
        "1. 세 수의 최대공약수를 구합니다.\n",
        "2. 앞서 구한 최대공약수의 약수가 몇 개인지 구합니다.\n",
        "\n",
        "세 수 a, b, c가 매개변수로 주어질 때, 세 수의 약수가 몇 개인지 return 하도록 solution 함수를 작성하려 합니다. 위 구조를 참고하여 코드가 올바르게 동작할 수 있도록 빈칸에 주어진 func_a, func_b, func_c 함수와 매개변수를 알맞게 채워주세요.\n",
        "\n",
        "\n",
        "▣ 매개변수 설명\n",
        "\n",
        "세 수 a, b, c가 매개변수로 주어집니다.\n",
        "* 세 수 a, b, c는 1 이상 1,000 이하인 정수입니다.\n",
        "\n",
        "▣ return 값 설명\n",
        "\n",
        "세 수의 약수가 몇 개인지 return 합니다.\n",
        "\n",
        "▣ 예제\n",
        "\n",
        "    | a  | b | c  | return |\n",
        "    |----|---|----|--------|\n",
        "    | 24 | 9 | 15 | 2      |\n",
        "\n",
        "▣ 예제 설명\n",
        "\n",
        "문제에 나온 예와 같습니다.\n",
        " \n"
      ]
    },
    {
      "cell_type": "code",
      "metadata": {
        "colab": {
          "base_uri": "https://localhost:8080/"
        },
        "id": "MOAPvXXaDQcZ",
        "outputId": "182b1ac1-8a30-4fe9-9feb-b1427137f563"
      },
      "source": [
        "def func_a(a, b):\n",
        "\tmod = a % b\n",
        "\twhile mod > 0:\n",
        "\t\ta = b\n",
        "\t\tb = mod\n",
        "\t\tmod = a % b\n",
        "\treturn b\n",
        "\n",
        "def func_b(n):\n",
        "\tanswer = 0\n",
        "\tfor i in range(1, n+1):\n",
        "\t\tif func_@@@(@@@):\n",
        "\t\t\tanswer += 1\n",
        "\treturn answer\n",
        "\n",
        "def func_c(p, q):\n",
        "\tif p % q == 0:\n",
        "\t\treturn True\n",
        "\telse:\n",
        "\t\treturn False\n",
        "\n",
        "def solution(a, b, c):\n",
        "    answer = 0\n",
        "    gcd = func_@@@(func_@@@(@@@), @@@)\n",
        "    answer = func_@@@(@@@)\n",
        "    return answer\n",
        "\n",
        "#아래는 테스트케이스 출력을 해보기 위한 코드입니다.\n",
        "a = 24\n",
        "b = 9\n",
        "c = 15\n",
        "ret = solution(a, b, c)\n",
        "\n",
        "#[실행] 버튼을 누르면 출력 값을 볼 수 있습니다.\n",
        "print(\"solution 함수의 반환 값은\", ret, \"입니다.\")"
      ],
      "execution_count": null,
      "outputs": [
        {
          "output_type": "stream",
          "text": [
            "solution 함수의 반환 값은  [1, 6, 2, 5, 3, 4]  입니다.\n"
          ],
          "name": "stdout"
        }
      ]
    },
    {
      "cell_type": "code",
      "source": [
        "def solution(a, b, c):\n",
        "    n = min(a, b, c)\n",
        "    answer = 0\n",
        "    for i in range(1, n+1):\n",
        "        if (a % i == 0) and (b % i == 0) and (c % i == 0):\n",
        "            print(i)\n",
        "            answer += 1\n",
        "    return answer  \n",
        "\n",
        "#아래는 테스트케이스 출력을 해보기 위한 코드입니다.\n",
        "a = 24\n",
        "b = 9\n",
        "c = 15\n",
        "ret = solution(a, b, c)\n",
        "\n",
        "#[실행] 버튼을 누르면 출력 값을 볼 수 있습니다.\n",
        "print(\"solution 함수의 반환 값은\", ret, \"입니다.\")     "
      ],
      "metadata": {
        "colab": {
          "base_uri": "https://localhost:8080/"
        },
        "id": "VRSSifYqGu9G",
        "outputId": "36e64f68-55eb-43f6-c0a9-1eaa7e642b29"
      },
      "execution_count": null,
      "outputs": [
        {
          "output_type": "stream",
          "name": "stdout",
          "text": [
            "1\n",
            "3\n",
            "solution 함수의 반환 값은 2 입니다.\n"
          ]
        }
      ]
    },
    {
      "cell_type": "code",
      "source": [
        "# a, b의 공약수 구하기\n",
        "def func_a(a, b):    # a=24, b=9\n",
        "\tmod = a % b      # mod = 6\n",
        "\twhile mod > 0:\n",
        "\t\ta = b        # a = 9, b = 6 /  a = 6, b = 3\n",
        "\t\tb = mod        \n",
        "\t\tmod = a % b  # mod = 3, mod = 0\n",
        "\treturn b\n",
        "\n",
        "# 최대공약수의 약수 개수를 구하는 함수\n",
        "def func_b(n):\n",
        "\tanswer = 0\n",
        "\tfor i in range(1, n+1):\n",
        "\t\tif n % i == 0:  # 약수인지 확인\n",
        "\t\t\tanswer += 1\n",
        "\treturn answer\n",
        "\n",
        "# q가 p의 약수인지 확인\n",
        "def func_c(p, q):\n",
        "\treturn p % q == 0\n",
        "\n",
        "def solution(a, b, c):\n",
        "    answer = 0\n",
        "    gcd = func_a(func_a(a, b), c)\n",
        "    print(gcd)\n",
        "    answer = func_b(gcd)\n",
        "    return answer\n",
        "\n",
        "#아래는 테스트케이스 출력을 해보기 위한 코드입니다.\n",
        "a = 24\n",
        "b = 9\n",
        "c = 15\n",
        "ret = solution(a, b, c)\n",
        "\n",
        "#[실행] 버튼을 누르면 출력 값을 볼 수 있습니다.\n",
        "print(\"solution 함수의 반환 값은\", ret, \"입니다.\")"
      ],
      "metadata": {
        "colab": {
          "base_uri": "https://localhost:8080/"
        },
        "id": "JP9dFFVpDYbb",
        "outputId": "7d72d413-e2da-4f74-d528-cc4933a5dc7e"
      },
      "execution_count": null,
      "outputs": [
        {
          "output_type": "stream",
          "name": "stdout",
          "text": [
            "3\n",
            "solution 함수의 반환 값은 2 입니다.\n"
          ]
        }
      ]
    },
    {
      "cell_type": "markdown",
      "metadata": {
        "id": "waHHcuH-DkHR"
      },
      "source": [
        "## Cos Pro 1급 5회 문제 9 - 구현\n",
        "\n",
        "정수 number와 target이 주어졌을 때, 다음 세 연산을 이용해 number를 target으로 만들려 합니다.\n",
        "\n",
        "    연산 1. 1을 더합니다.\n",
        "    연산 2. 1을 뺍니다.\n",
        "    연산 3. 2를 곱합니다.\n",
        "\n",
        "\n",
        "정수 number와 target이 매개변수로 주어질 때, number로 target으로 만들려면 연산을 최소 몇 번 해야 하는지 return 하도록 solution 함수를 작성해 주세요.\n",
        "\n",
        "\n",
        "▣ 매개변수 설명\n",
        "\n",
        "두 정수 number와 target이 solution 함수의 매개변수로 주어집니다.\n",
        "* number와 target은 0 이상 10,000 이하입니다.\n",
        "\n",
        "▣ return 값 설명\n",
        "\n",
        "number를 target으로 만들려면 연산을 최소 몇 번 해야 하는지 return 합니다.\n",
        "\n",
        "▣ 예시\n",
        "\n",
        "    | number |target|return|\n",
        "    |--------|------|------|\n",
        "    | 5      |9     |2     |\n",
        "    | 3      |11    |3     |\n",
        "\n",
        "▣ 예시 설명\n",
        "\n",
        "예시 #1\n",
        "\n",
        "1. 5 x 2 = 10\n",
        "2. 10 - 1 = 9\n",
        "\n",
        "따라서 연산을 최소 2번 해야 합니다.\n",
        "\n",
        "\n",
        "예시 #2\n",
        "1. 3 x 2 = 6\n",
        "2. 6 x 2 = 12\n",
        "3. 12 - 1 = 11\n",
        "\n",
        "따라서 연산을 최소 3번 해야 합니다.\n"
      ]
    },
    {
      "cell_type": "markdown",
      "source": [
        "### temp\n"
      ],
      "metadata": {
        "id": "OiAvHEvZ0BF8"
      }
    },
    {
      "cell_type": "code",
      "source": [
        "# 모든 경우의 수를 만들어서 실행해 보아야 함! 완전 탐색!\n",
        "*, +, - => 3가지\n",
        "**, *+, *-, +*, ++, +-, -*, -+, -- => 9가지\n",
        "# BFS - Queue (FIFO)\n",
        "# DFS - Stack"
      ],
      "metadata": {
        "id": "JwfqxS6BKCQx"
      },
      "execution_count": null,
      "outputs": []
    },
    {
      "cell_type": "code",
      "source": [
        "*, +, -\n",
        "\n",
        "number = 5\n",
        "number * 2 = 10\n",
        "number + 1 = 6\n",
        "number - 1 = 4\n",
        "\n",
        "number = 10\n",
        "number * 2 = 20\n",
        "number + 1 = 11\n",
        "number - 1 = 9"
      ],
      "metadata": {
        "id": "zSV2EE9XIIbC"
      },
      "execution_count": null,
      "outputs": []
    },
    {
      "cell_type": "code",
      "source": [
        "n = 3\n",
        "for x in range(1, 20):\n",
        "    print(n**x, end=' ')"
      ],
      "metadata": {
        "colab": {
          "base_uri": "https://localhost:8080/"
        },
        "id": "2jxLsSQ3ynFE",
        "outputId": "5f8ec797-1fd5-4268-bdf9-382d2b2086be"
      },
      "execution_count": null,
      "outputs": [
        {
          "output_type": "stream",
          "name": "stdout",
          "text": [
            "3 9 27 81 243 729 2187 6561 19683 59049 177147 531441 1594323 4782969 14348907 43046721 129140163 387420489 1162261467 "
          ]
        }
      ]
    },
    {
      "cell_type": "code",
      "source": [
        "from collections import deque\n",
        "\n",
        "q = deque()\n",
        "q.append('+')\n",
        "#q.popleft()\n",
        "if q:\n",
        "    print('not empty')\n",
        "else:\n",
        "    print('empty')"
      ],
      "metadata": {
        "colab": {
          "base_uri": "https://localhost:8080/"
        },
        "id": "wbuLFyRJKLsq",
        "outputId": "5082d499-2c45-4879-9e7e-76ad41a85ab5"
      },
      "execution_count": null,
      "outputs": [
        {
          "output_type": "stream",
          "name": "stdout",
          "text": [
            "not empty\n"
          ]
        }
      ]
    },
    {
      "cell_type": "code",
      "source": [
        "from collections import deque\n",
        "\n",
        "deQ = deque()  # 앞/뒤로 삽입 삭제\n",
        "deQ.append(1)  # 뒤로 삽입\n",
        "deQ.append(2)\n",
        "deQ.appendleft(3)  # 앞으로 삽입\n",
        "deQ.extend([4,5,6])  # 뒤로 여러개 삽입\n",
        "deQ.extendleft([7,8,9])  # 앞으로 여러 개 삽입\n",
        "print(deQ)\n",
        "deQ.pop()  # 뒤에서 삭제\n",
        "print(deQ) \n",
        "deQ.popleft()  # 앞에서 삭제\n",
        "deQ"
      ],
      "metadata": {
        "colab": {
          "base_uri": "https://localhost:8080/"
        },
        "id": "dKoFF7jZZsdk",
        "outputId": "d1445b79-4e3f-40cc-8898-3a7a24c5ce3b"
      },
      "execution_count": null,
      "outputs": [
        {
          "output_type": "stream",
          "name": "stdout",
          "text": [
            "deque([9, 8, 7, 3, 1, 2, 4, 5, 6])\n",
            "deque([9, 8, 7, 3, 1, 2, 4, 5])\n"
          ]
        },
        {
          "output_type": "execute_result",
          "data": {
            "text/plain": [
              "deque([8, 7, 3, 1, 2, 4, 5])"
            ]
          },
          "metadata": {},
          "execution_count": 12
        }
      ]
    },
    {
      "cell_type": "code",
      "source": [
        "# Queue(FIFO)를 만들때 사용하는 메서드\n",
        "from collections import deque\n",
        "Q = deque()\n",
        "Q.append(1)   # Queue에 삽입\n",
        "Q.append(2)   # Queue에 삽입\n",
        "print(Q)\n",
        "Q.popleft()   # Queue에서 삭제\n",
        "print(Q)\n",
        "Q.popleft()   # Queue에서 삭제\n",
        "print(Q)\n",
        "\n",
        "if Q:\n",
        "    print('not empty')\n",
        "else:\n",
        "    print('empty')"
      ],
      "metadata": {
        "colab": {
          "base_uri": "https://localhost:8080/"
        },
        "id": "dxX2Poiha1_V",
        "outputId": "edb003d4-0113-47cc-da97-fde22365b83a"
      },
      "execution_count": null,
      "outputs": [
        {
          "output_type": "stream",
          "name": "stdout",
          "text": [
            "deque([1, 2])\n",
            "deque([2])\n",
            "deque([])\n",
            "empty\n"
          ]
        }
      ]
    },
    {
      "cell_type": "code",
      "source": [
        "# Stack(LIFO)을 만들때 사용하는 메서드\n",
        "from collections import deque\n",
        "stack = deque()\n",
        "stack.append(1)   # Stack에 삽입\n",
        "stack.append(2)   # Stack에 삽입\n",
        "print(stack)\n",
        "stack.pop()   # Stack에서 삭제\n",
        "print(stack)\n",
        "stack.pop()   # Stack에서 삭제\n",
        "print(stack)\n",
        "\n",
        "if stack:\n",
        "    print('not empty')\n",
        "else:\n",
        "    print('empty')"
      ],
      "metadata": {
        "colab": {
          "base_uri": "https://localhost:8080/"
        },
        "id": "v4n0VuAsbzFi",
        "outputId": "d69ed282-de2d-41bf-9e44-a78efa23f8dc"
      },
      "execution_count": null,
      "outputs": [
        {
          "output_type": "stream",
          "name": "stdout",
          "text": [
            "deque([1, 2])\n",
            "deque([1])\n",
            "deque([])\n",
            "empty\n"
          ]
        }
      ]
    },
    {
      "cell_type": "markdown",
      "source": [
        "### code"
      ],
      "metadata": {
        "id": "09aa7e8CcVtT"
      }
    },
    {
      "cell_type": "code",
      "source": [
        "# Queue를 사용해서 +, -, *를  넣었다가 빼내어 보세요\n",
        "\n",
        "# 사용했던 숫자에 대해 1로 표시\n",
        "visit = [0] * 10001  \n",
        "number, target = 5, 9\n",
        "Q = deque()\n",
        "Q.append((number, 0))\n",
        "visit[number] = 1\n",
        "\n",
        "while Q:\n",
        "    current, cnt = Q.popleft()\n",
        "    print(current, cnt)\n",
        "    if current + 1 == target:\n",
        "        print(current + 1, cnt+1)\n",
        "        break\n",
        "    if visit[current + 1] == 0:\n",
        "        print('A', current + 1, cnt+1)\n",
        "        Q.append((current + 1, cnt+1))\n",
        "\n",
        "    if current - 1 == target:\n",
        "        print(current - 1, cnt+1)\n",
        "        break\n",
        "    if visit[current - 1] == 0:\n",
        "        print('B', current - 1, cnt+1)\n",
        "        Q.append((current - 1, cnt+1))\n",
        "\n",
        "    if current * 2 == target:\n",
        "        print(current * 2, cnt+1)\n",
        "        break\n",
        "    if visit[current * 2] == 0:\n",
        "        print('C', current * 2, cnt+1)\n",
        "        Q.append((current * 2, cnt+1))    "
      ],
      "metadata": {
        "colab": {
          "base_uri": "https://localhost:8080/"
        },
        "id": "0tUHehR6cE3K",
        "outputId": "eb95c24b-f468-46a1-b671-05dc56f94b21"
      },
      "execution_count": null,
      "outputs": [
        {
          "output_type": "stream",
          "name": "stdout",
          "text": [
            "5 0\n",
            "A 6 1\n",
            "B 4 1\n",
            "C 10 1\n",
            "6 1\n",
            "A 7 2\n",
            "C 12 2\n",
            "4 1\n",
            "B 3 2\n",
            "C 8 2\n",
            "10 1\n",
            "A 11 2\n",
            "9 2\n"
          ]
        }
      ]
    },
    {
      "cell_type": "code",
      "source": [
        "# Queue를 사용해서 +, -, *를  넣었다가 빼내어 보세요\n",
        "\n",
        "# 사용했던 숫자에 대해 1로 표시\n",
        "visit = [0] * 10001  \n",
        "number, target = 5, 9\n",
        "Q = deque()\n",
        "Q.append((number, 0))\n",
        "visit[number] = 1\n",
        "operation = [lambda x : x+1, lambda x : x-1, lambda x : x*2]\n",
        "while Q:\n",
        "    current, cnt = Q.popleft()\n",
        "    print(current, cnt)\n",
        "    for op in operation:\n",
        "        value = op(current)\n",
        "        print(value)"
      ],
      "metadata": {
        "colab": {
          "base_uri": "https://localhost:8080/"
        },
        "id": "-ui4WMpUfIqp",
        "outputId": "25cd5b71-dda5-44c6-db12-f4a18da63b0a"
      },
      "execution_count": null,
      "outputs": [
        {
          "output_type": "stream",
          "name": "stdout",
          "text": [
            "5 0\n",
            "6\n",
            "4\n",
            "10\n"
          ]
        }
      ]
    },
    {
      "cell_type": "code",
      "source": [
        "# Queue를 사용해서 +, -, *를  넣었다가 빼내어 보세요\n",
        "\n",
        "def solution(number, target):\n",
        "    # 사용했던 숫자에 대해 1로 표시\n",
        "    visit = [0] * 10001      \n",
        "    Q = deque()\n",
        "    Q.append((number, 0))\n",
        "    visit[number] = 1\n",
        "    operation = [lambda x : x+1, lambda x : x-1, lambda x : x*2]\n",
        "    while Q:\n",
        "        current, cnt = Q.popleft()\n",
        "        #print(current, cnt)\n",
        "        for op in operation:\n",
        "            value = op(current)\n",
        "            if value == target:\n",
        "                #print('FOUND', value, cnt+1)\n",
        "                return cnt+1\n",
        "            if 0 <= value <= 10000 and visit[value] == 0:\n",
        "                #print('C', value, cnt+1)\n",
        "                visit[value] = 1\n",
        "                Q.append((value, cnt+1))\n",
        "\n",
        "\n",
        "number, target = 5, 9\n",
        "solution(number, target)"
      ],
      "metadata": {
        "colab": {
          "base_uri": "https://localhost:8080/"
        },
        "id": "rYilym5_gKlH",
        "outputId": "17e5088e-fe97-44d7-93e5-8300b6d3b9df"
      },
      "execution_count": null,
      "outputs": [
        {
          "output_type": "execute_result",
          "data": {
            "text/plain": [
              "2"
            ]
          },
          "metadata": {},
          "execution_count": 28
        }
      ]
    },
    {
      "cell_type": "code",
      "source": [
        "# Queue를 사용해서 +, -, *를  넣었다가 빼내어 보세요\n",
        "from collections import deque\n",
        "number = 3\n",
        "target = 11\n",
        "def solution(number, target):\n",
        "    visit = [0] * 10001  # 0 : 사용하지 않음, 1 : 사용했음\n",
        "    queue = deque()\n",
        "    queue.append((number, 1))\n",
        "    visit[number] = 1\n",
        "    calculate = [lambda x : x + 1, lambda x : x - 1, lambda x : x * 2]\n",
        "    while queue:\n",
        "        t, cnt = queue.popleft()\n",
        "        print(t, cnt, queue)\n",
        "\n",
        "        for calc in calculate:\n",
        "            answer = calc(t)\n",
        "            if answer == target: return cnt\n",
        "            if 0 <= answer <= 10000 and visit[answer] == 0: \n",
        "                visit[answer] = 1\n",
        "                queue.append((answer, cnt+1))\n",
        "\n",
        "solution(number, target)            "
      ],
      "metadata": {
        "colab": {
          "base_uri": "https://localhost:8080/"
        },
        "id": "bsPgLxR4L_4N",
        "outputId": "11ff69ff-4313-452f-8350-3e59e0eeb75f"
      },
      "execution_count": null,
      "outputs": [
        {
          "output_type": "execute_result",
          "data": {
            "text/plain": [
              "[['*', '*'],\n",
              " ['*', '+'],\n",
              " ['*', '-'],\n",
              " ['+', '*'],\n",
              " ['+', '+'],\n",
              " ['+', '-'],\n",
              " ['-', '*'],\n",
              " ['-', '+'],\n",
              " ['-', '-']]"
            ]
          },
          "metadata": {},
          "execution_count": 8
        }
      ]
    },
    {
      "cell_type": "code",
      "source": [
        "# 주헌이 다시 설명\n",
        "# 일요일에 또 한 번 설명해 봅시다"
      ],
      "metadata": {
        "id": "lXVkBeGbNR-P"
      },
      "execution_count": null,
      "outputs": []
    },
    {
      "cell_type": "code",
      "metadata": {
        "id": "ZzfkssMflbbd"
      },
      "source": [
        "#다음과 같이 import를 사용할 수 있습니다.\n",
        "#import math\n",
        "\n",
        "def solution(number, target):\n",
        "    #여기에 코드를 작성해주세요.\n",
        "    answer = 0\n",
        "    return answer\n",
        "\n",
        "#아래는 테스트케이스 출력을 해보기 위한 코드입니다.\n",
        "number1 = 5\n",
        "target1 = 9\n",
        "ret1 = solution(number1, target1)\n",
        "\n",
        "#[실행] 버튼을 누르면 출력 값을 볼 수 있습니다.\n",
        "print(\"solution 함수의 반환 값은\", ret1, \"입니다.\")\n",
        "\n",
        "number2 = 3\n",
        "target2 = 11\n",
        "ret2 = solution(number2, target2)\n",
        "\n",
        "#[실행] 버튼을 누르면 출력 값을 볼 수 있습니다.\n",
        "print(\"solution 함수의 반환 값은\", ret2, \"입니다.\")"
      ],
      "execution_count": null,
      "outputs": []
    },
    {
      "cell_type": "markdown",
      "metadata": {
        "id": "btVjCdBjnEAZ"
      },
      "source": [
        "## Cos Pro 1급 5회 문제 10 - 빈칸 채우기\n",
        "\n",
        "직업에 아르바이트, 판매사원이 있습니다. 직원들 급여의 총합을 계산하기 위해 아래와 같이 Job, PartTimeJob, SalesJob 클래스를 작성했습니다.\n",
        "\n",
        "![image.png](data:image/png;base64,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)\n",
        " \n",
        "* Job :\n",
        "  * Job : 직업을 나타내는 클래스입니다.\n",
        "  * salary : 직업의 급여를 나타냅니다. 초기 급여는 0입니다.\n",
        "  * get_salary : 직업의 급여를 return 합니다.\n",
        "\n",
        "* PartTimeJob :\n",
        "  * PartTimeJob : 아르바이트를 나타내는 클래스이며 Job을 상속합니다.\n",
        "  * work_hour : 아르바이트를 한 시간입니다.\n",
        "  * pay_per_hour : 아르바이트의 시간 당 급여입니다.\n",
        "  * get_salary : 아르바이트 급여를 계산하여 return 합니다.\n",
        "\n",
        "* SalesJob :\n",
        "  * SalesJob : 판매사원을 나타내는 클래스이며 Job을 상속합니다.\n",
        "  * sales_result : 판매사원의 판매실적입니다.\n",
        "  * pay_per_sale : 판매실적 당 급여입니다.\n",
        "  * get_salary : 판매사원의 급여를 계산하여 return 합니다.\n",
        "\n",
        "주어진 아르바이트, 판매사원 급여의 총합을 계산하려 합니다.\n",
        "\n",
        "* 아르바이트는 기본적으로 `아르바이트를 한 시간 X 시간 당 급여`를 받으며 40시간 이상 근무시 8시간만큼의 급여를 추가로 받습니다.\n",
        "* 판매사원은 기본적으로 `판매실적 * 판매실적 당 급여`를 받으며 판매실적이 10건이 넘으면 급여를 2배로, 20건이 넘으면 급여를 3배로 받습니다.\n",
        "\n",
        "아르바이트의 정보가 담긴 2차원 리스트 part_time_jobs, 판매사원의 정보가 담긴 2차원 리스트 sales_jobs가 매개변수로 주어질 때, 모든 직원들 급여의 총합을 return 하도록 solution 함수를 작성하려 합니다. 위 클래스 구조를 참고하여 주어진 코드의 빈칸을 적절히 채워 전체 코드를 완성해주세요.\n",
        "\n",
        "\n",
        "▣ 매개변수 설명\n",
        "\n",
        "아르바이트의 정보가 담긴 2차원 리스트 part_time_jobs, 판매사원의 정보가 담긴 2차원 리스트 sales_jobs가 solution 함수의 매개변수로 주어집니다.\n",
        "* part_time_jobs은 길이가 1이상 10이하인 2차원 리스트입니다.\n",
        "* part_time_jobs의 각 원소는 [아르바이트를 한 시간, 시간 당 급여]입니다.\n",
        "  * 아르바이트를 한 시간은 1이상 100이하입니다.\n",
        "  * 시간 당 급여는 1,000이상 20,000이하입니다.\n",
        "* sales_jobs은 길이가 1이상 10이하인 2차원 리스트입니다.\n",
        "* sales_jobs의 각 원소는 [판매실적, 판매실적 당 급여]입니다.\n",
        "  * 판매실적은 1이상 30이하입니다.\n",
        "  * 판매실적 당 급여는 1,000이상 20,000이하입니다.\n",
        "\n",
        "▣ return 값 설명\n",
        "\n",
        "모든 직원들 급여의 총합을 return 합니다.\n",
        "\n",
        "▣ 입출력 예\n",
        "\n",
        "    | part_time_jobs                       | sales_jobs               | return |\n",
        "    |--------------------------------------|--------------------------|--------|\n",
        "    | [[10, 5000], [43, 6800], [5, 12800]] | [[3, 18000], [12, 8500]] | 718800 |\n",
        "\n",
        "▣ 입출력 예 설명\n",
        "\n",
        "    첫번째 아르바이트에게 50,000(10 * 5,000)을 지급합니다.\n",
        "    두번째 아르바이트에게 346,800(43 * 6,800 + 8 * 6,800)을 지급합니다.\n",
        "    세번째 아르바이트에게 64,000(5 * 12,800)을 지급합니다.\n",
        "    첫번째 영업사원에게 54,000(3 * 18,000)을 지급합니다.\n",
        "    두번째 영업사원에게 204,000(12 * 8,500 * 2)을 지급합니다.\n",
        "    따라서 급여의 총합은 718,800입니다.\n"
      ]
    },
    {
      "cell_type": "code",
      "source": [
        "# 상속\n",
        "\n",
        "class MyInt:\n",
        "    def __init__(self, number):\n",
        "        self.number = number\n",
        "\n",
        "    def __str__(self):\n",
        "        return f'나는 {self.number}입니다'\n",
        "    \n",
        "    def __add__(self, other):\n",
        "        return self.number + other.number\n",
        "\n",
        "    def __sub__(self, other):\n",
        "        return self.number - other.number\n",
        "\n",
        "    def __mul__(self, other):\n",
        "        return self.number * other.number\n",
        "\n",
        "a = MyInt(10)\n",
        "b = MyInt(20)\n",
        "#print(dir(a))\n",
        "print(a)   # '나는 10입니다'\n",
        "print(a + b, a - b)\n",
        "print(a * b)"
      ],
      "metadata": {
        "colab": {
          "base_uri": "https://localhost:8080/"
        },
        "id": "H3qFEVklNg3y",
        "outputId": "7ca855be-9e61-478d-8bcd-a54b9d6672cb"
      },
      "execution_count": null,
      "outputs": [
        {
          "output_type": "stream",
          "name": "stdout",
          "text": [
            "나는 10입니다\n",
            "30 -10\n",
            "200\n"
          ]
        }
      ]
    },
    {
      "cell_type": "code",
      "source": [
        "# class MyInt\n",
        "['__class__', '__delattr__', '__dict__', '__dir__', '__doc__', '__eq__', '__format__', \n",
        " '__ge__', '__getattribute__', '__gt__', '__hash__', '__init__', '__init_subclass__',\n",
        " '__le__', '__lt__', '__module__', '__ne__', '__new__', '__reduce__', '__reduce_ex__',\n",
        " '__repr__', '__setattr__', '__sizeof__', '__str__', '__subclasshook__', '__weakref__', 'number']"
      ],
      "metadata": {
        "id": "uhS83IQvOAP1"
      },
      "execution_count": null,
      "outputs": []
    },
    {
      "cell_type": "code",
      "source": [
        "class MyInt(int):\n",
        "    def __add__(self, other):\n",
        "        return f'{self.real + other.real}입니다'\n",
        "\n",
        "a = MyInt(10)\n",
        "b = MyInt(20)\n",
        "print(a + b)\n",
        "print(a-b, a*b, a/b)"
      ],
      "metadata": {
        "colab": {
          "base_uri": "https://localhost:8080/"
        },
        "id": "w4tjyuhJPbdJ",
        "outputId": "1e8468ca-ae99-43be-b999-f137687c3129"
      },
      "execution_count": null,
      "outputs": [
        {
          "output_type": "stream",
          "name": "stdout",
          "text": [
            "30입니다\n",
            "-10 200 0.5\n"
          ]
        }
      ]
    },
    {
      "cell_type": "code",
      "metadata": {
        "colab": {
          "base_uri": "https://localhost:8080/"
        },
        "id": "t8Tcoe8enTdn",
        "outputId": "03782ccd-41a3-4308-b514-76d5c89624ae"
      },
      "source": [
        "class Job:\n",
        "\tdef __init__(self):\n",
        "\t\tself.salary = 0\n",
        "\t\n",
        "\tdef get_salary(self):\n",
        "\t\treturn self.salary\n",
        "\n",
        "class PartTimeJob(Job):\n",
        "\tdef __init__(self, work_hour, pay_per_hour):\n",
        "\t\tsuper().__init__()\n",
        "\t\tself.work_hour = work_hour\n",
        "\t\tself.pay_per_hour = pay_per_hour\n",
        "\t\n",
        "\tdef get_salary(self):\n",
        "\t\tself.salary = self.work_hour * self.pay_per_hour\n",
        "\t\tif self.work_hour >= 40:\n",
        "\t\t\tself.salary += (self.pay_per_hour * 8)\n",
        "\t\treturn self.salary\n",
        "\n",
        "class SalesJob(Job):\n",
        "\tdef __init__(self, sales_result, pay_per_sale):\n",
        "\t\tsuper().__init__()\n",
        "\t\tself.sales_result = sales_result\n",
        "\t\tself.pay_per_sale = pay_per_sale\n",
        "\n",
        "\tdef get_salary(self):\n",
        "\t\tif self.sales_result > 20:\n",
        "\t\t\tself.salary = self.sales_result * self.pay_per_sale * 3\n",
        "\t\telif self.sales_result > 10:\n",
        "\t\t\tself.salary = self.sales_result * self.pay_per_sale * 2\n",
        "\t\telse:\n",
        "\t\t\tself.salary = self.sales_result * self.pay_per_sale\n",
        "\t\treturn self.salary\n",
        "\n",
        "def solution(part_time_jobs, sales_jobs):\n",
        "\tanswer = 0\n",
        "\tfor p in part_time_jobs:\n",
        "\t\tpart_time_job = PartTimeJob(p[0], p[1])\n",
        "\t\tanswer += part_time_job.get_salary()\n",
        "\tfor s in sales_jobs:\n",
        "\t\tsale_job = SalesJob(s[0], s[1])\n",
        "\t\tanswer += sale_job.get_salary()\n",
        "\treturn answer\n",
        "\n",
        "#아래는 테스트케이스 출력을 해보기 위한 코드입니다.\n",
        "part_time_jobs = [[10, 5000], [43, 6800], [5, 12800]]\n",
        "sales_jobs = [[3, 18000], [12, 8500]]\n",
        "ret = solution(part_time_jobs, sales_jobs)\n",
        "\n",
        "#[실행] 버튼을 누르면 출력 값을 볼 수 있습니다.\n",
        "print(\"solution 함수의 반환 값은\", ret, \"입니다.\")"
      ],
      "execution_count": null,
      "outputs": [
        {
          "output_type": "stream",
          "name": "stdout",
          "text": [
            "solution 함수의 반환 값은 718800 입니다.\n"
          ]
        }
      ]
    }
  ]
}